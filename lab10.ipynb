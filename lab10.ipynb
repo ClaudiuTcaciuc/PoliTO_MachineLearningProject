{
 "cells": [
  {
   "cell_type": "code",
   "execution_count": 1,
   "metadata": {},
   "outputs": [],
   "source": [
    "import numpy as np\n",
    "import preprocessing as pp\n",
    "\n",
    "from graph import *\n",
    "from bayesian_decision_evaluation import *\n",
    "# import importlib\n",
    "from models.gmm_clf import GMM\n",
    "from models.logistic_regression_classifier import LogisticRegression, LogisticRegressionWeighted, QuadraticExpansion\n",
    "from models.svm_classifier import SVMClassifier\n",
    "from models.svm_kernel_classifier import SVMClassifierPolyKernel, SVMClassifierRBFKernel\n",
    "from models.multivariate_gaussian_classifier import MultivariateGaussianClassifier, NaiveBayesClassifier, TiedCovarianceClassifier"
   ]
  },
  {
   "cell_type": "code",
   "execution_count": 2,
   "metadata": {},
   "outputs": [],
   "source": [
    "X, y = utils.load_data()\n",
    "\n",
    "classes = {\n",
    "    'Fake': 'blue',\n",
    "    'Real': 'orange'\n",
    "}\n",
    "\n",
    "X_train, y_train, X_test, y_test = utils.split_data(X, y)"
   ]
  },
  {
   "cell_type": "code",
   "execution_count": 3,
   "metadata": {},
   "outputs": [],
   "source": [
    "def compute_statistics(llr, y_true, prior, unique_labels=None):\n",
    "    cost_matrix, prior_class_prob, threshold = binary_cost_matrix(prior)\n",
    "    \n",
    "    min_DCF, best_threshold = compute_minDCF(llr, y_true, prior, unique_labels)\n",
    "    y_pred = (llr > threshold) * 1\n",
    "    y_pred_best = (llr > best_threshold) * 1\n",
    "    cm = confusion_matrix(y_true, y_pred, unique_labels)\n",
    "    cm_best = confusion_matrix(y_true, y_pred_best, unique_labels)\n",
    "    acc = accuracy(cm_best)\n",
    "    DCF, _, _ = compute_DCF(cm, cost_matrix, prior_class_prob)\n",
    "    DCF_norm, _, _ = compute_DCF_normalized(cm, cost_matrix, prior_class_prob)\n",
    "    \n",
    "    # print(f\"MinDCF: {min_DCF:.4f}, DCF: {DCF:.4f}, Normalized DCF: {DCF_norm:.4f}, Accuracy: {acc*100:.2f}%\\n\")\n",
    "    \n",
    "    return min_DCF, DCF, DCF_norm"
   ]
  },
  {
   "cell_type": "code",
   "execution_count": 4,
   "metadata": {},
   "outputs": [],
   "source": [
    "test_only = True"
   ]
  },
  {
   "cell_type": "code",
   "execution_count": 5,
   "metadata": {},
   "outputs": [],
   "source": [
    "# dict for storing the minDCF, DCF and DCF_norm for each model\n",
    "models_performances = {}"
   ]
  },
  {
   "cell_type": "markdown",
   "metadata": {},
   "source": [
    "### GMM classification\n",
    "\n",
    "#### Full"
   ]
  },
  {
   "cell_type": "code",
   "execution_count": 6,
   "metadata": {},
   "outputs": [],
   "source": [
    "n_components = [1, 2, 4, 8, 16, 32]\n",
    "psiEig = 0.01"
   ]
  },
  {
   "cell_type": "code",
   "execution_count": 7,
   "metadata": {},
   "outputs": [
    {
     "name": "stdout",
     "output_type": "stream",
     "text": [
      "Number of components: 1\n",
      "GMM 0 loaded successfully.\n",
      "GMM 1 loaded successfully.\n",
      "Number of components: 2\n",
      "GMM 0 loaded successfully.\n",
      "GMM 1 loaded successfully.\n",
      "Number of components: 4\n",
      "GMM 0 loaded successfully.\n",
      "GMM 1 loaded successfully.\n",
      "Number of components: 8\n",
      "GMM 0 loaded successfully.\n",
      "GMM 1 loaded successfully.\n",
      "Number of components: 16\n",
      "GMM 0 loaded successfully.\n",
      "GMM 1 loaded successfully.\n",
      "Number of components: 32\n",
      "GMM 0 loaded successfully.\n",
      "GMM 1 loaded successfully.\n"
     ]
    }
   ],
   "source": [
    "covariance_type = 'full'\n",
    "\n",
    "min_DCF_list_full = []\n",
    "DCF_norm_list_full = []\n",
    "\n",
    "for n in n_components:\n",
    "    print(f\"Number of components: {n}\")\n",
    "    model = GMM(n_components=n, covariance_type=covariance_type, psiEig=psiEig)\n",
    "    folder = f\"gmm_{covariance_type}_{n}_components\"\n",
    "    model.fit(X_train, y_train, n_features=2, folder=folder, test_only=test_only)\n",
    "    score = model.score_binary(X_test)\n",
    "    min_DCF, DCF, DCF_norm = compute_statistics(score, y_test, prior=0.1, unique_labels=[0, 1])\n",
    "    min_DCF_list_full.append(min_DCF)\n",
    "    DCF_norm_list_full.append(DCF_norm)\n",
    "    models_performances[folder] = {'minDCF': min_DCF, 'DCF': DCF, 'DCF_norm': DCF_norm}"
   ]
  },
  {
   "cell_type": "markdown",
   "metadata": {},
   "source": [
    "#### Diagonal"
   ]
  },
  {
   "cell_type": "code",
   "execution_count": 8,
   "metadata": {},
   "outputs": [
    {
     "name": "stdout",
     "output_type": "stream",
     "text": [
      "Number of components: 1\n",
      "GMM 0 loaded successfully.\n",
      "GMM 1 loaded successfully.\n",
      "Number of components: 2\n",
      "GMM 0 loaded successfully.\n",
      "GMM 1 loaded successfully.\n",
      "Number of components: 4\n",
      "GMM 0 loaded successfully.\n",
      "GMM 1 loaded successfully.\n",
      "Number of components: 8\n",
      "GMM 0 loaded successfully.\n",
      "GMM 1 loaded successfully.\n",
      "Number of components: 16\n",
      "GMM 0 loaded successfully.\n",
      "GMM 1 loaded successfully.\n",
      "Number of components: 32\n",
      "GMM 0 loaded successfully.\n",
      "GMM 1 loaded successfully.\n"
     ]
    }
   ],
   "source": [
    "covariance_type = 'diagonal'\n",
    "\n",
    "min_DCF_list_full = []\n",
    "DCF_norm_list_full = []\n",
    "\n",
    "for n in n_components:\n",
    "    print(f\"Number of components: {n}\")\n",
    "    model = GMM(n_components=n, covariance_type=covariance_type, psiEig=psiEig)\n",
    "    folder = f\"gmm_{covariance_type}_{n}_components\"\n",
    "    model.fit(X_train, y_train, n_features=2, folder=folder, test_only=test_only)\n",
    "    score = model.score_binary(X_test)\n",
    "    min_DCF, DCF, DCF_norm = compute_statistics(score, y_test, prior=0.1, unique_labels=[0, 1])\n",
    "    min_DCF_list_full.append(min_DCF)\n",
    "    DCF_norm_list_full.append(DCF_norm)\n",
    "    models_performances[folder] = {'minDCF': min_DCF, 'DCF': DCF, 'DCF_norm': DCF_norm}"
   ]
  },
  {
   "cell_type": "markdown",
   "metadata": {},
   "source": [
    "#### Comparison without Calibrations"
   ]
  },
  {
   "cell_type": "markdown",
   "metadata": {},
   "source": [
    "#### Logistic Regression"
   ]
  },
  {
   "cell_type": "code",
   "execution_count": 9,
   "metadata": {},
   "outputs": [],
   "source": [
    "lambda_ = np.logspace(-4, 2, 13)\n",
    "pi = 0.1\n",
    "X_train, y_train, X_test, y_test = utils.split_data(X, y)\n",
    "n_T = np.sum(y_train == 1)\n",
    "n_F = np.sum(y_train == 0)\n",
    "pEmp = n_T / (n_T + n_F)"
   ]
  },
  {
   "cell_type": "markdown",
   "metadata": {},
   "source": [
    "##### Logistic Regression non-weighted"
   ]
  },
  {
   "cell_type": "code",
   "execution_count": 10,
   "metadata": {},
   "outputs": [
    {
     "name": "stdout",
     "output_type": "stream",
     "text": [
      "Weights loaded successfully.\n",
      "Weights loaded successfully.\n",
      "Weights loaded successfully.\n",
      "Weights loaded successfully.\n",
      "Weights loaded successfully.\n",
      "Weights loaded successfully.\n",
      "Weights loaded successfully.\n",
      "Weights loaded successfully.\n",
      "Weights loaded successfully.\n",
      "Weights loaded successfully.\n",
      "Weights loaded successfully.\n",
      "Weights loaded successfully.\n",
      "Weights loaded successfully.\n"
     ]
    }
   ],
   "source": [
    "for l in lambda_:\n",
    "    model = LogisticRegression(lambda_=l)\n",
    "    folder = f\"lr_base_raw_data_pi_{pi:.1e}_lambda_{l:.1e}\".replace('.', '_').replace('e-0', 'e-')\n",
    "    model.fit(X_train, y_train, folder=folder, test_only=test_only)\n",
    "    llr = model.score(X_test) - np.log(pEmp / (1 - pEmp))\n",
    "    min_DCF, DCF, DCF_norm = compute_statistics(llr, y_test, pi)\n",
    "    models_performances[folder] = {'minDCF': min_DCF, 'DCF': DCF, 'DCF_norm': DCF_norm}"
   ]
  },
  {
   "cell_type": "markdown",
   "metadata": {},
   "source": [
    "#### Logistic Regression weighted"
   ]
  },
  {
   "cell_type": "code",
   "execution_count": 11,
   "metadata": {},
   "outputs": [
    {
     "name": "stdout",
     "output_type": "stream",
     "text": [
      "Weights loaded successfully.\n",
      "Weights loaded successfully.\n",
      "Weights loaded successfully.\n",
      "Weights loaded successfully.\n",
      "Weights loaded successfully.\n",
      "Weights loaded successfully.\n",
      "Weights loaded successfully.\n",
      "Weights loaded successfully.\n",
      "Weights loaded successfully.\n",
      "Weights loaded successfully.\n",
      "Weights loaded successfully.\n",
      "Weights loaded successfully.\n",
      "Weights loaded successfully.\n"
     ]
    }
   ],
   "source": [
    "for l in lambda_:\n",
    "    model = LogisticRegressionWeighted(lambda_=l, pi=pi, n_T=n_T, n_F=n_F)\n",
    "    folder = f\"lr_weighted_raw_data_pi_{pi:.1e}_lambda_{l:.1e}\".replace('.', '_').replace('e-0', 'e-')\n",
    "    model.fit(X_train, y_train, folder=folder, test_only=test_only)\n",
    "    llr = model.score(X_test) - np.log(pi / (1 - pi))\n",
    "    min_DCF, DCF, DCF_norm = compute_statistics(llr, y_test, pi)\n",
    "    models_performances[folder] = {'minDCF': min_DCF, 'DCF': DCF, 'DCF_norm': DCF_norm}"
   ]
  },
  {
   "cell_type": "markdown",
   "metadata": {},
   "source": [
    "##### Logistic Regression Quadratic Expansion (non-weighted)"
   ]
  },
  {
   "cell_type": "code",
   "execution_count": 12,
   "metadata": {},
   "outputs": [
    {
     "name": "stdout",
     "output_type": "stream",
     "text": [
      "Weights loaded successfully.\n",
      "Weights loaded successfully.\n",
      "Weights loaded successfully.\n",
      "Weights loaded successfully.\n",
      "Weights loaded successfully.\n",
      "Weights loaded successfully.\n",
      "Weights loaded successfully.\n",
      "Weights loaded successfully.\n",
      "Weights loaded successfully.\n",
      "Weights loaded successfully.\n",
      "Weights loaded successfully.\n",
      "Weights loaded successfully.\n",
      "Weights loaded successfully.\n"
     ]
    }
   ],
   "source": [
    "for l in lambda_:\n",
    "    model = QuadraticExpansion(lambda_=l)\n",
    "    X_train_quad = model.expand(X_train)\n",
    "    X_test_quad = model.expand(X_test)\n",
    "    folder = f\"lr_quad_raw_data_pi_{pi:.1e}_lambda_{l:.1e}\".replace('.', '_').replace('e-0', 'e-')\n",
    "    model.fit(X_train_quad, y_train, folder=folder, test_only=test_only)\n",
    "    llr = model.score(X_test_quad) - np.log(pEmp / (1 - pEmp))\n",
    "    min_DCF, DCF, DCF_norm = compute_statistics(llr, y_test, pi)\n",
    "    models_performances[folder] = {'minDCF': min_DCF, 'DCF': DCF, 'DCF_norm': DCF_norm}"
   ]
  },
  {
   "cell_type": "markdown",
   "metadata": {},
   "source": [
    "#### Logistic Regression non-weighted with standardization"
   ]
  },
  {
   "cell_type": "code",
   "execution_count": 13,
   "metadata": {},
   "outputs": [
    {
     "name": "stdout",
     "output_type": "stream",
     "text": [
      "Weights loaded successfully.\n",
      "Weights loaded successfully.\n",
      "Weights loaded successfully.\n",
      "Weights loaded successfully.\n",
      "Weights loaded successfully.\n",
      "Weights loaded successfully.\n",
      "Weights loaded successfully.\n",
      "Weights loaded successfully.\n",
      "Weights loaded successfully.\n",
      "Weights loaded successfully.\n",
      "Weights loaded successfully.\n",
      "Weights loaded successfully.\n",
      "Weights loaded successfully.\n"
     ]
    }
   ],
   "source": [
    "X_train_std, mean, std = pp.standardize(X_train, return_params=True)\n",
    "X_test_std = X_test - mean / std\n",
    "\n",
    "for l in lambda_:\n",
    "    model = LogisticRegression(lambda_=l)\n",
    "    folder = f\"lr_base_std_data_pi_{pi:.1e}_lambda_{l:.1e}\".replace('.', '_').replace('e-0', 'e-')\n",
    "    model.fit(X_train_std, y_train, folder=folder, test_only=test_only)\n",
    "    llr = model.score(X_test_std) - np.log(pEmp / (1 - pEmp))\n",
    "    min_DCF, DCF, DCF_norm = compute_statistics(llr, y_test, pi)\n",
    "    models_performances[folder] = {'minDCF': min_DCF, 'DCF': DCF, 'DCF_norm': DCF_norm}"
   ]
  },
  {
   "cell_type": "markdown",
   "metadata": {},
   "source": [
    "#### Logistic Regression weighted with standardization"
   ]
  },
  {
   "cell_type": "code",
   "execution_count": 14,
   "metadata": {},
   "outputs": [
    {
     "name": "stdout",
     "output_type": "stream",
     "text": [
      "Weights loaded successfully.\n",
      "Weights loaded successfully.\n",
      "Weights loaded successfully.\n",
      "Weights loaded successfully.\n",
      "Weights loaded successfully.\n",
      "Weights loaded successfully.\n",
      "Weights loaded successfully.\n",
      "Weights loaded successfully.\n",
      "Weights loaded successfully.\n",
      "Weights loaded successfully.\n",
      "Weights loaded successfully.\n",
      "Weights loaded successfully.\n",
      "Weights loaded successfully.\n"
     ]
    }
   ],
   "source": [
    "for l in lambda_:\n",
    "    model = LogisticRegressionWeighted(lambda_=l, pi=pi, n_T=n_T, n_F=n_F)\n",
    "    folder = f\"lr_weighted_std_data_pi_{pi:.1e}_lambda_{l:.1e}\".replace('.', '_').replace('e-0', 'e-')\n",
    "    model.fit(X_train_std, y_train, folder=folder, test_only=test_only)\n",
    "    llr = model.score(X_test_std) - np.log(pi / (1 - pi))\n",
    "    min_DCF, DCF, DCF_norm = compute_statistics(llr, y_test, pi)\n",
    "    models_performances[folder] = {'minDCF': min_DCF, 'DCF': DCF, 'DCF_norm': DCF_norm}"
   ]
  },
  {
   "cell_type": "markdown",
   "metadata": {},
   "source": [
    "#### SVM"
   ]
  },
  {
   "cell_type": "markdown",
   "metadata": {},
   "source": [
    "##### Linear SVM"
   ]
  },
  {
   "cell_type": "code",
   "execution_count": 15,
   "metadata": {},
   "outputs": [],
   "source": [
    "K = 1.0\n",
    "C = np.logspace(-5, 0, 11)\n",
    "pi = 0.1"
   ]
  },
  {
   "cell_type": "code",
   "execution_count": 16,
   "metadata": {},
   "outputs": [
    {
     "name": "stdout",
     "output_type": "stream",
     "text": [
      "Model loaded successfully.\n",
      "Model loaded successfully.\n",
      "Model loaded successfully.\n",
      "Model loaded successfully.\n",
      "Model loaded successfully.\n",
      "Model loaded successfully.\n",
      "Model loaded successfully.\n",
      "Model loaded successfully.\n",
      "Model loaded successfully.\n",
      "Model loaded successfully.\n",
      "Model loaded successfully.\n"
     ]
    }
   ],
   "source": [
    "for c in C:\n",
    "    model = SVMClassifier(C=c, K=K)\n",
    "    folder = f\"svm_linear_raw_data_K_{K:.1e}_C_{c:.1e}\".replace('.', '_').replace('e-0', 'e-')\n",
    "    model.fit(X_train, y_train, folder, test_only)\n",
    "    llr = model.score(X_test)\n",
    "    min_DCF, DCF, DCF_norm = compute_statistics(llr, y_test, pi)\n",
    "    models_performances[folder] = {'minDCF': min_DCF, 'DCF': DCF, 'DCF_norm': DCF_norm}"
   ]
  },
  {
   "cell_type": "markdown",
   "metadata": {},
   "source": [
    "#### Linear SVM - Centered Data"
   ]
  },
  {
   "cell_type": "code",
   "execution_count": 17,
   "metadata": {},
   "outputs": [
    {
     "name": "stdout",
     "output_type": "stream",
     "text": [
      "Model loaded successfully.\n",
      "Model loaded successfully.\n",
      "Model loaded successfully.\n",
      "Model loaded successfully.\n",
      "Model loaded successfully.\n",
      "Model loaded successfully.\n",
      "Model loaded successfully.\n",
      "Model loaded successfully.\n",
      "Model loaded successfully.\n",
      "Model loaded successfully.\n",
      "Model loaded successfully.\n"
     ]
    }
   ],
   "source": [
    "X_train_std, mean, std = pp.standardize(X_train, return_params=True)\n",
    "X_test_std = X_test - mean / std\n",
    "\n",
    "for c in C:\n",
    "    model = SVMClassifier(C=c, K=K)\n",
    "    folder = f\"svm_linear_std_data_K_{K:.1e}_C_{c:.1e}\".replace('.', '_').replace('e-0', 'e-')\n",
    "    model.fit(X_train_std, y_train, folder, test_only)\n",
    "    llr = model.score(X_test_std)\n",
    "    min_DCF, DCF, DCF_norm = compute_statistics(llr, y_test, pi)\n",
    "    models_performances[folder] = {'minDCF': min_DCF, 'DCF': DCF, 'DCF_norm': DCF_norm}"
   ]
  },
  {
   "cell_type": "markdown",
   "metadata": {},
   "source": [
    "#### Kernel SVM - Polynomial"
   ]
  },
  {
   "cell_type": "code",
   "execution_count": 18,
   "metadata": {},
   "outputs": [],
   "source": [
    "d = 2\n",
    "c = 1\n",
    "eps = 0"
   ]
  },
  {
   "cell_type": "code",
   "execution_count": 19,
   "metadata": {},
   "outputs": [
    {
     "name": "stdout",
     "output_type": "stream",
     "text": [
      "Model loaded successfully.\n",
      "Model loaded successfully.\n",
      "Model loaded successfully.\n",
      "Model loaded successfully.\n",
      "Model loaded successfully.\n",
      "Model loaded successfully.\n",
      "Model loaded successfully.\n",
      "Model loaded successfully.\n",
      "Model loaded successfully.\n",
      "Model loaded successfully.\n",
      "Model loaded successfully.\n"
     ]
    }
   ],
   "source": [
    "for ci in C:\n",
    "    model = SVMClassifierPolyKernel(C=ci, eps=eps, degree=d, delta=c)\n",
    "    folder = f\"svm_poly_raw_data_degree_{d}_delta_{c}_eps_{eps}_C_{ci:.1e}\".replace('.', '_').replace('e-0', 'e-')\n",
    "    model.fit(X_train, y_train, folder, test_only)\n",
    "    llr = model.score(X_test)\n",
    "    min_DCF, DCF, DCF_norm = compute_statistics(llr, y_test, pi)\n",
    "    models_performances[folder] = {'minDCF': min_DCF, 'DCF': DCF, 'DCF_norm': DCF_norm}"
   ]
  },
  {
   "cell_type": "markdown",
   "metadata": {},
   "source": [
    "#### Kernel SVM - RBF"
   ]
  },
  {
   "cell_type": "code",
   "execution_count": 20,
   "metadata": {},
   "outputs": [],
   "source": [
    "eps = 1.0\n",
    "gamma = [1e-4, 1e-3, 1e-2, 1e-1]\n",
    "C = np.logspace(-3, 2, 11)"
   ]
  },
  {
   "cell_type": "code",
   "execution_count": 21,
   "metadata": {},
   "outputs": [
    {
     "name": "stdout",
     "output_type": "stream",
     "text": [
      "Model loaded successfully.\n",
      "Model loaded successfully.\n",
      "Model loaded successfully.\n",
      "Model loaded successfully.\n",
      "Model loaded successfully.\n",
      "Model loaded successfully.\n",
      "Model loaded successfully.\n",
      "Model loaded successfully.\n",
      "Model loaded successfully.\n",
      "Model loaded successfully.\n",
      "Model loaded successfully.\n",
      "Model loaded successfully.\n",
      "Model loaded successfully.\n",
      "Model loaded successfully.\n",
      "Model loaded successfully.\n",
      "Model loaded successfully.\n",
      "Model loaded successfully.\n",
      "Model loaded successfully.\n",
      "Model loaded successfully.\n",
      "Model loaded successfully.\n",
      "Model loaded successfully.\n",
      "Model loaded successfully.\n",
      "Model loaded successfully.\n",
      "Model loaded successfully.\n",
      "Model loaded successfully.\n",
      "Model loaded successfully.\n",
      "Model loaded successfully.\n",
      "Model loaded successfully.\n",
      "Model loaded successfully.\n",
      "Model loaded successfully.\n",
      "Model loaded successfully.\n",
      "Model loaded successfully.\n",
      "Model loaded successfully.\n",
      "Model loaded successfully.\n",
      "Model loaded successfully.\n",
      "Model loaded successfully.\n",
      "Model loaded successfully.\n",
      "Model loaded successfully.\n",
      "Model loaded successfully.\n",
      "Model loaded successfully.\n",
      "Model loaded successfully.\n",
      "Model loaded successfully.\n",
      "Model loaded successfully.\n",
      "Model loaded successfully.\n"
     ]
    }
   ],
   "source": [
    "for g in gamma:\n",
    "    for c in C:\n",
    "        model = SVMClassifierRBFKernel(C=c, gamma=g, eps=eps)\n",
    "        folder = f\"svm_rbf_raw_data_gamma_{g:.1e}_eps_{eps}_C_{c:.1e}\".replace('.', '_').replace('e-0', 'e-')\n",
    "        model.fit(X_train, y_train, folder, test_only)\n",
    "        llr = model.score(X_test)\n",
    "        min_DCF, DCF, DCF_norm = compute_statistics(llr, y_test, pi)\n",
    "        models_performances[folder] = {'minDCF': min_DCF, 'DCF': DCF, 'DCF_norm': DCF_norm}"
   ]
  },
  {
   "cell_type": "code",
   "execution_count": 22,
   "metadata": {},
   "outputs": [
    {
     "name": "stdout",
     "output_type": "stream",
     "text": [
      "number of models: 154\n"
     ]
    }
   ],
   "source": [
    "print(f\"number of models: {len(models_performances)}\")"
   ]
  },
  {
   "cell_type": "code",
   "execution_count": 23,
   "metadata": {},
   "outputs": [
    {
     "name": "stdout",
     "output_type": "stream",
     "text": [
      "Best model: gmm_diagonal_8_components, MinDCF: 0.1463\n"
     ]
    }
   ],
   "source": [
    "# find the model with the lowest minDCF\n",
    "minDCF = np.inf\n",
    "best_model = None\n",
    "for model, performance in models_performances.items():\n",
    "    if performance['minDCF'] < minDCF:\n",
    "        minDCF = performance['minDCF']\n",
    "        best_model = model\n",
    "    # print(f\"{model}: MinDCF: {performance['minDCF']:.4f}, DCF: {performance['DCF']:.4f}, Normalized DCF: {performance['DCF_norm']:.4f}\")\n",
    "\n",
    "print(f\"Best model: {best_model}, MinDCF: {minDCF:.4f}\")"
   ]
  },
  {
   "cell_type": "code",
   "execution_count": 24,
   "metadata": {},
   "outputs": [
    {
     "name": "stdout",
     "output_type": "stream",
     "text": [
      "svm_rbf_raw_data_gamma_1_0e-1_eps_1_0_C_1_0e+02: MinDCF: 0.1845\n",
      "gmm_diagonal_8_components: MinDCF: 0.1463\n",
      "lr_quad_raw_data_pi_1_0e-1_lambda_3_2e-2: MinDCF: 0.2436\n"
     ]
    }
   ],
   "source": [
    "# find for each model the best configuration\n",
    "best_models = {}\n",
    "models_type = set([model.split('_')[0] for model in models_performances.keys()])\n",
    "\n",
    "for model_type in models_type:\n",
    "    minDCF = np.inf\n",
    "    best_model = None\n",
    "    for model, performance in models_performances.items():\n",
    "        if model_type in model:\n",
    "            if performance['minDCF'] < minDCF:\n",
    "                minDCF = performance['minDCF']\n",
    "                best_model = model\n",
    "    best_models[best_model] = minDCF\n",
    "    \n",
    "for model, minDCF in best_models.items():\n",
    "    print(f\"{model}: MinDCF: {minDCF:.4f}\")"
   ]
  },
  {
   "cell_type": "markdown",
   "metadata": {},
   "source": [
    "### Try different application for the three best models"
   ]
  },
  {
   "cell_type": "code",
   "execution_count": 25,
   "metadata": {},
   "outputs": [],
   "source": [
    "def compute_statistics(llr, y_true, prior, unique_labels=None, graph=True):\n",
    "    cost_matrix, prior_class_prob, threshold = binary_cost_matrix(prior)\n",
    "    \n",
    "    min_DCF, best_threshold = compute_minDCF(llr, y_true, prior, unique_labels)\n",
    "    y_pred = (llr > threshold) * 1\n",
    "    y_pred_best = (llr > best_threshold) * 1\n",
    "    cm = confusion_matrix(y_true, y_pred, unique_labels)\n",
    "    cm_best = confusion_matrix(y_true, y_pred_best, unique_labels)\n",
    "    acc = accuracy(cm_best)\n",
    "    DCF, _, _ = compute_DCF(cm, cost_matrix, prior_class_prob)\n",
    "    DCF_norm, _, _ = compute_DCF_normalized(cm, cost_matrix, prior_class_prob)\n",
    "    \n",
    "    print(f\"MinDCF: {min_DCF:.4f}, DCF: {DCF:.4f}, Normalized DCF: {DCF_norm:.4f}, Accuracy: {acc*100:.2f}%\\n\")\n",
    "    if graph:\n",
    "        plot_bayes_error(llr, y_true, unique_labels)\n",
    "        \n",
    "    return min_DCF, DCF, DCF_norm"
   ]
  },
  {
   "cell_type": "markdown",
   "metadata": {},
   "source": [
    "#### Best model for GMM: GMM - diagonal 8 components"
   ]
  },
  {
   "cell_type": "code",
   "execution_count": 26,
   "metadata": {},
   "outputs": [
    {
     "name": "stdout",
     "output_type": "stream",
     "text": [
      "GMM 0 loaded successfully.\n",
      "GMM 1 loaded successfully.\n",
      "MinDCF: 0.1463, DCF: 0.0181, Normalized DCF: 0.1809, Accuracy: 93.85%\n",
      "\n"
     ]
    }
   ],
   "source": [
    "covariance_type = 'diagonal'\n",
    "n_best_components = 8\n",
    "prior = 0.1\n",
    "\n",
    "model = GMM(n_components=n_best_components, covariance_type=covariance_type, psiEig=psiEig)\n",
    "folder = f\"gmm_{covariance_type}_{n_best_components}_components\"\n",
    "model.fit(X_train, y_train, n_features=2, folder=folder, test_only=test_only)\n",
    "score = model.score_binary(X_test)\n",
    "min_DCF, _, DCF_norm = compute_statistics(score, y_test, prior=prior, unique_labels=[0, 1], graph=False)"
   ]
  },
  {
   "cell_type": "code",
   "execution_count": 27,
   "metadata": {},
   "outputs": [
    {
     "name": "stdout",
     "output_type": "stream",
     "text": [
      "GMM 0 loaded successfully.\n",
      "GMM 1 loaded successfully.\n",
      "MinDCF: 0.0619, DCF: 0.0346, Normalized DCF: 0.0691, Accuracy: 96.90%\n",
      "\n"
     ]
    }
   ],
   "source": [
    "prior = 0.5\n",
    "\n",
    "model = GMM(n_components=n_best_components, covariance_type=covariance_type, psiEig=psiEig)\n",
    "folder = f\"gmm_{covariance_type}_{n_best_components}_components\"\n",
    "model.fit(X_train, y_train, n_features=2, folder=folder, test_only=test_only)\n",
    "score = model.score_binary(X_test)\n",
    "min_DCF, _, DCF_norm = compute_statistics(score, y_test, prior=prior, unique_labels=[0, 1], graph=False)"
   ]
  },
  {
   "cell_type": "code",
   "execution_count": 28,
   "metadata": {},
   "outputs": [
    {
     "name": "stdout",
     "output_type": "stream",
     "text": [
      "GMM 0 loaded successfully.\n",
      "GMM 1 loaded successfully.\n",
      "MinDCF: 0.1577, DCF: 0.0167, Normalized DCF: 0.1668, Accuracy: 93.75%\n",
      "\n"
     ]
    },
    {
     "data": {
      "image/png": "[encoded data removed]",
      "text/plain": [
       "<Figure size 640x480 with 1 Axes>"
      ]
     },
     "metadata": {},
     "output_type": "display_data"
    }
   ],
   "source": [
    "prior = 0.9\n",
    "\n",
    "model = GMM(n_components=n_best_components, covariance_type=covariance_type, psiEig=psiEig)\n",
    "folder = f\"gmm_{covariance_type}_{n_best_components}_components\"\n",
    "model.fit(X_train, y_train, n_features=2, folder=folder, test_only=test_only)\n",
    "score = model.score_binary(X_test)\n",
    "min_DCF, _, DCF_norm = compute_statistics(score, y_test, prior=prior, unique_labels=[0, 1], graph=True)"
   ]
  },
  {
   "cell_type": "markdown",
   "metadata": {},
   "source": [
    "#### Best model for SVM: SVM - RBF with gamma = 0.1, epsilon = 1.0, C = 100.0"
   ]
  },
  {
   "cell_type": "code",
   "execution_count": 29,
   "metadata": {},
   "outputs": [],
   "source": [
    "eps = 1.0\n",
    "gamma = 1e-1\n",
    "C = 100.0\n",
    "prior = 0.1"
   ]
  },
  {
   "cell_type": "code",
   "execution_count": 30,
   "metadata": {},
   "outputs": [
    {
     "name": "stdout",
     "output_type": "stream",
     "text": [
      "Model loaded successfully.\n",
      "MinDCF: 0.1845, DCF: 0.0358, Normalized DCF: 0.3581, Accuracy: 93.55%\n",
      "\n"
     ]
    }
   ],
   "source": [
    "prior = 0.1\n",
    "\n",
    "model = SVMClassifierRBFKernel(C=C, gamma=gamma, eps=eps)\n",
    "folder = f\"svm_rbf_raw_data_gamma_{gamma:.1e}_eps_{eps}_C_{C:.1e}\".replace('.', '_').replace('e-0', 'e-')\n",
    "model.fit(X_train, y_train, folder, test_only)\n",
    "llr = model.score(X_test)\n",
    "min_DCF, DCF, DCF_norm = compute_statistics(llr, y_test, prior=prior, unique_labels=[0, 1], graph=False)"
   ]
  },
  {
   "cell_type": "code",
   "execution_count": 31,
   "metadata": {},
   "outputs": [
    {
     "name": "stdout",
     "output_type": "stream",
     "text": [
      "Model loaded successfully.\n",
      "MinDCF: 0.0861, DCF: 0.0450, Normalized DCF: 0.0900, Accuracy: 95.70%\n",
      "\n"
     ]
    }
   ],
   "source": [
    "prior = 0.5\n",
    "\n",
    "model = SVMClassifierRBFKernel(C=C, gamma=gamma, eps=eps)\n",
    "folder = f\"svm_rbf_raw_data_gamma_{gamma:.1e}_eps_{eps}_C_{C:.1e}\".replace('.', '_').replace('e-0', 'e-')\n",
    "model.fit(X_train, y_train, folder, test_only)\n",
    "llr = model.score(X_test)\n",
    "min_DCF, DCF, DCF_norm = compute_statistics(llr, y_test, prior=prior, unique_labels=[0, 1], graph=False)"
   ]
  },
  {
   "cell_type": "code",
   "execution_count": 32,
   "metadata": {},
   "outputs": [
    {
     "name": "stdout",
     "output_type": "stream",
     "text": [
      "Model loaded successfully.\n",
      "MinDCF: 0.2398, DCF: 0.0437, Normalized DCF: 0.4369, Accuracy: 91.25%\n",
      "\n"
     ]
    },
    {
     "data": {
      "image/png": "[encoded data removed]",
      "text/plain": [
       "<Figure size 640x480 with 1 Axes>"
      ]
     },
     "metadata": {},
     "output_type": "display_data"
    }
   ],
   "source": [
    "prior = 0.9\n",
    "\n",
    "model = SVMClassifierRBFKernel(C=C, gamma=gamma, eps=eps)\n",
    "folder = f\"svm_rbf_raw_data_gamma_{gamma:.1e}_eps_{eps}_C_{C:.1e}\".replace('.', '_').replace('e-0', 'e-')\n",
    "model.fit(X_train, y_train, folder, test_only)\n",
    "llr = model.score(X_test)\n",
    "min_DCF, DCF, DCF_norm = compute_statistics(llr, y_test, prior=prior, unique_labels=[0, 1], graph=True)"
   ]
  },
  {
   "cell_type": "markdown",
   "metadata": {},
   "source": [
    "#### Best model for Logistic Regression: Quadratic Expansion with lambda = 0.032, pi = 0.1"
   ]
  },
  {
   "cell_type": "code",
   "execution_count": 33,
   "metadata": {},
   "outputs": [
    {
     "name": "stdout",
     "output_type": "stream",
     "text": [
      "Weights loaded successfully.\n",
      "MinDCF: 0.2436, DCF: 0.0497, Normalized DCF: 0.4972, Accuracy: 89.35%\n",
      "\n"
     ]
    }
   ],
   "source": [
    "l = 0.032\n",
    "pi = 0.1\n",
    "\n",
    "model = QuadraticExpansion(lambda_=l)\n",
    "X_train_quad = model.expand(X_train)\n",
    "X_test_quad = model.expand(X_test)\n",
    "folder = f\"lr_quad_raw_data_pi_{pi:.1e}_lambda_{l:.1e}\".replace('.', '_').replace('e-0', 'e-')\n",
    "model.fit(X_train_quad, y_train, folder=folder, test_only=test_only)\n",
    "llr = model.score(X_test_quad) - np.log(pEmp / (1 - pEmp))\n",
    "min_DCF, DCF, DCF_norm = compute_statistics(llr, y_test, pi, unique_labels=[0, 1], graph=False)"
   ]
  },
  {
   "cell_type": "code",
   "execution_count": 34,
   "metadata": {},
   "outputs": [
    {
     "name": "stdout",
     "output_type": "stream",
     "text": [
      "Weights loaded successfully.\n",
      "MinDCF: 0.1130, DCF: 0.0594, Normalized DCF: 0.1188, Accuracy: 94.35%\n",
      "\n"
     ]
    }
   ],
   "source": [
    "pi = 0.5\n",
    "\n",
    "model = QuadraticExpansion(lambda_=l)\n",
    "X_train_quad = model.expand(X_train)\n",
    "X_test_quad = model.expand(X_test)\n",
    "folder = f\"lr_quad_raw_data_pi_{pi:.1e}_lambda_{l:.1e}\".replace('.', '_').replace('e-0', 'e-')\n",
    "model.fit(X_train_quad, y_train, folder=folder, test_only=test_only)\n",
    "llr = model.score(X_test_quad) - np.log(pEmp / (1 - pEmp))\n",
    "min_DCF, DCF, DCF_norm = compute_statistics(llr, y_test, pi, unique_labels=[0, 1], graph=False)"
   ]
  },
  {
   "cell_type": "code",
   "execution_count": 35,
   "metadata": {},
   "outputs": [
    {
     "name": "stdout",
     "output_type": "stream",
     "text": [
      "Weights loaded successfully.\n",
      "MinDCF: 0.3119, DCF: 0.0499, Normalized DCF: 0.4986, Accuracy: 88.85%\n",
      "\n"
     ]
    },
    {
     "data": {
      "image/png": "[encoded data removed]",
      "text/plain": [
       "<Figure size 640x480 with 1 Axes>"
      ]
     },
     "metadata": {},
     "output_type": "display_data"
    }
   ],
   "source": [
    "pi = 0.9\n",
    "\n",
    "model = QuadraticExpansion(lambda_=l)\n",
    "X_train_quad = model.expand(X_train)\n",
    "X_test_quad = model.expand(X_test)\n",
    "folder = f\"lr_quad_raw_data_pi_{pi:.1e}_lambda_{l:.1e}\".replace('.', '_').replace('e-0', 'e-')\n",
    "model.fit(X_train_quad, y_train, folder=folder, test_only=test_only)\n",
    "llr = model.score(X_test_quad) - np.log(pEmp / (1 - pEmp))\n",
    "min_DCF, DCF, DCF_norm = compute_statistics(llr, y_test, pi, unique_labels=[0, 1], graph=True)"
   ]
  }
 ],
 "metadata": {
  "kernelspec": {
   "display_name": "Python 3",
   "language": "python",
   "name": "python3"
  },
  "language_info": {
   "codemirror_mode": {
    "name": "ipython",
    "version": 3
   },
   "file_extension": ".py",
   "mimetype": "text/x-python",
   "name": "python",
   "nbconvert_exporter": "python",
   "pygments_lexer": "ipython3",
   "version": "3.11.2"
  }
 },
 "nbformat": 4,
 "nbformat_minor": 2
}
