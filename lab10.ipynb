{
 "cells": [
  {
   "cell_type": "code",
   "execution_count": 1,
   "metadata": {},
   "outputs": [],
   "source": [
    "import numpy as np\n",
    "import preprocessing as pp\n",
    "\n",
    "from graph import *\n",
    "from bayesian_decision_evaluation import *\n",
    "# import importlib\n",
    "from models.gmm_clf import GMM\n",
    "from models.logistic_regression_classifier import LogisticRegression, LogisticRegressionWeighted, QuadraticExpansion\n",
    "from models.svm_classifier import SVMClassifier\n",
    "from models.svm_kernel_classifier import SVMClassifierPolyKernel, SVMClassifierRBFKernel\n",
    "from models.multivariate_gaussian_classifier import MultivariateGaussianClassifier, NaiveBayesClassifier, TiedCovarianceClassifier"
   ]
  },
  {
   "cell_type": "code",
   "execution_count": 2,
   "metadata": {},
   "outputs": [],
   "source": [
    "X, y = utils.load_data()\n",
    "\n",
    "classes = {\n",
    "    'Fake': 'blue',\n",
    "    'Real': 'orange'\n",
    "}\n",
    "\n",
    "X_train, y_train, X_test, y_test = utils.split_data(X, y)"
   ]
  },
  {
   "cell_type": "code",
   "execution_count": 3,
   "metadata": {},
   "outputs": [],
   "source": [
    "def compute_statistics(llr, y_true, prior, unique_labels=None):\n",
    "    cost_matrix, prior_class_prob, threshold = binary_cost_matrix(prior)\n",
    "    \n",
    "    min_DCF, best_threshold = compute_minDCF(llr, y_true, prior, unique_labels)\n",
    "    y_pred = (llr > threshold) * 1\n",
    "    y_pred_best = (llr > best_threshold) * 1\n",
    "    cm = confusion_matrix(y_true, y_pred, unique_labels)\n",
    "    cm_best = confusion_matrix(y_true, y_pred_best, unique_labels)\n",
    "    acc = accuracy(cm_best)\n",
    "    DCF, _, _ = compute_DCF(cm, cost_matrix, prior_class_prob)\n",
    "    DCF_norm, _, _ = compute_DCF_normalized(cm, cost_matrix, prior_class_prob)\n",
    "    \n",
    "    # print(f\"MinDCF: {min_DCF:.4f}, DCF: {DCF:.4f}, Normalized DCF: {DCF_norm:.4f}, Accuracy: {acc*100:.2f}%\\n\")\n",
    "    \n",
    "    return min_DCF, DCF, DCF_norm"
   ]
  },
  {
   "cell_type": "code",
   "execution_count": 4,
   "metadata": {},
   "outputs": [],
   "source": [
    "test_only = True"
   ]
  },
  {
   "cell_type": "code",
   "execution_count": 5,
   "metadata": {},
   "outputs": [],
   "source": [
    "# dict for storing the minDCF, DCF and DCF_norm for each model\n",
    "models_performances = {}"
   ]
  },
  {
   "cell_type": "markdown",
   "metadata": {},
   "source": [
    "### GMM classification\n",
    "\n",
    "#### Full"
   ]
  },
  {
   "cell_type": "code",
   "execution_count": 6,
   "metadata": {},
   "outputs": [],
   "source": [
    "n_components = [1, 2, 4, 8, 16, 32]\n",
    "psiEig = 0.01"
   ]
  },
  {
   "cell_type": "code",
   "execution_count": 7,
   "metadata": {},
   "outputs": [
    {
     "name": "stdout",
     "output_type": "stream",
     "text": [
      "Number of components: 1\n",
      "GMM 0 loaded successfully.\n",
      "GMM 1 loaded successfully.\n",
      "Number of components: 2\n",
      "GMM 0 loaded successfully.\n",
      "GMM 1 loaded successfully.\n",
      "Number of components: 4\n",
      "GMM 0 loaded successfully.\n",
      "GMM 1 loaded successfully.\n",
      "Number of components: 8\n",
      "GMM 0 loaded successfully.\n",
      "GMM 1 loaded successfully.\n",
      "Number of components: 16\n",
      "GMM 0 loaded successfully.\n",
      "GMM 1 loaded successfully.\n",
      "Number of components: 32\n",
      "GMM 0 loaded successfully.\n",
      "GMM 1 loaded successfully.\n"
     ]
    }
   ],
   "source": [
    "covariance_type = 'full'\n",
    "\n",
    "min_DCF_list_full = []\n",
    "DCF_norm_list_full = []\n",
    "\n",
    "for n in n_components:\n",
    "    print(f\"Number of components: {n}\")\n",
    "    model = GMM(n_components=n, covariance_type=covariance_type, psiEig=psiEig)\n",
    "    folder = f\"gmm_{covariance_type}_{n}_components\"\n",
    "    model.fit(X_train, y_train, n_features=2, folder=folder, test_only=test_only)\n",
    "    score = model.score_binary(X_test)\n",
    "    min_DCF, DCF, DCF_norm = compute_statistics(score, y_test, prior=0.1, unique_labels=[0, 1])\n",
    "    min_DCF_list_full.append(min_DCF)\n",
    "    DCF_norm_list_full.append(DCF_norm)\n",
    "    models_performances[folder] = {'minDCF': min_DCF, 'DCF': DCF, 'DCF_norm': DCF_norm}"
   ]
  },
  {
   "cell_type": "markdown",
   "metadata": {},
   "source": [
    "#### Diagonal"
   ]
  },
  {
   "cell_type": "code",
   "execution_count": 8,
   "metadata": {},
   "outputs": [
    {
     "name": "stdout",
     "output_type": "stream",
     "text": [
      "Number of components: 1\n",
      "GMM 0 loaded successfully.\n",
      "GMM 1 loaded successfully.\n",
      "Number of components: 2\n",
      "GMM 0 loaded successfully.\n",
      "GMM 1 loaded successfully.\n",
      "Number of components: 4\n",
      "GMM 0 loaded successfully.\n",
      "GMM 1 loaded successfully.\n",
      "Number of components: 8\n",
      "GMM 0 loaded successfully.\n",
      "GMM 1 loaded successfully.\n",
      "Number of components: 16\n",
      "GMM 0 loaded successfully.\n",
      "GMM 1 loaded successfully.\n",
      "Number of components: 32\n",
      "GMM 0 loaded successfully.\n",
      "GMM 1 loaded successfully.\n"
     ]
    }
   ],
   "source": [
    "covariance_type = 'diagonal'\n",
    "\n",
    "min_DCF_list_full = []\n",
    "DCF_norm_list_full = []\n",
    "\n",
    "for n in n_components:\n",
    "    print(f\"Number of components: {n}\")\n",
    "    model = GMM(n_components=n, covariance_type=covariance_type, psiEig=psiEig)\n",
    "    folder = f\"gmm_{covariance_type}_{n}_components\"\n",
    "    model.fit(X_train, y_train, n_features=2, folder=folder, test_only=test_only)\n",
    "    score = model.score_binary(X_test)\n",
    "    min_DCF, DCF, DCF_norm = compute_statistics(score, y_test, prior=0.1, unique_labels=[0, 1])\n",
    "    min_DCF_list_full.append(min_DCF)\n",
    "    DCF_norm_list_full.append(DCF_norm)\n",
    "    models_performances[folder] = {'minDCF': min_DCF, 'DCF': DCF, 'DCF_norm': DCF_norm}"
   ]
  },
  {
   "cell_type": "markdown",
   "metadata": {},
   "source": [
    "#### Comparison without Calibrations"
   ]
  },
  {
   "cell_type": "markdown",
   "metadata": {},
   "source": [
    "#### Logistic Regression"
   ]
  },
  {
   "cell_type": "code",
   "execution_count": 9,
   "metadata": {},
   "outputs": [],
   "source": [
    "lambda_ = np.logspace(-4, 2, 13)\n",
    "pi = 0.1\n",
    "X_train, y_train, X_test, y_test = utils.split_data(X, y)\n",
    "n_T = np.sum(y_train == 1)\n",
    "n_F = np.sum(y_train == 0)\n",
    "pEmp = n_T / (n_T + n_F)"
   ]
  },
  {
   "cell_type": "markdown",
   "metadata": {},
   "source": [
    "##### Logistic Regression non-weighted"
   ]
  },
  {
   "cell_type": "code",
   "execution_count": 10,
   "metadata": {},
   "outputs": [
    {
     "name": "stdout",
     "output_type": "stream",
     "text": [
      "Weights loaded successfully.\n",
      "Weights loaded successfully.\n",
      "Weights loaded successfully.\n",
      "Weights loaded successfully.\n",
      "Weights loaded successfully.\n",
      "Weights loaded successfully.\n",
      "Weights loaded successfully.\n",
      "Weights loaded successfully.\n",
      "Weights loaded successfully.\n",
      "Weights loaded successfully.\n",
      "Weights loaded successfully.\n",
      "Weights loaded successfully.\n",
      "Weights loaded successfully.\n"
     ]
    }
   ],
   "source": [
    "for l in lambda_:\n",
    "    model = LogisticRegression(lambda_=l)\n",
    "    folder = f\"lr_base_raw_data_pi_{pi:.1e}_lambda_{l:.1e}\".replace('.', '_').replace('e-0', 'e-')\n",
    "    model.fit(X_train, y_train, folder=folder, test_only=test_only)\n",
    "    llr = model.score(X_test) - np.log(pEmp / (1 - pEmp))\n",
    "    min_DCF, DCF, DCF_norm = compute_statistics(llr, y_test, pi)\n",
    "    models_performances[folder] = {'minDCF': min_DCF, 'DCF': DCF, 'DCF_norm': DCF_norm}"
   ]
  },
  {
   "cell_type": "markdown",
   "metadata": {},
   "source": [
    "#### Logistic Regression weighted"
   ]
  },
  {
   "cell_type": "code",
   "execution_count": 11,
   "metadata": {},
   "outputs": [
    {
     "name": "stdout",
     "output_type": "stream",
     "text": [
      "Weights loaded successfully.\n",
      "Weights loaded successfully.\n",
      "Weights loaded successfully.\n",
      "Weights loaded successfully.\n",
      "Weights loaded successfully.\n",
      "Weights loaded successfully.\n",
      "Weights loaded successfully.\n",
      "Weights loaded successfully.\n",
      "Weights loaded successfully.\n",
      "Weights loaded successfully.\n",
      "Weights loaded successfully.\n",
      "Weights loaded successfully.\n",
      "Weights loaded successfully.\n"
     ]
    }
   ],
   "source": [
    "for l in lambda_:\n",
    "    model = LogisticRegressionWeighted(lambda_=l, pi=pi, n_T=n_T, n_F=n_F)\n",
    "    folder = f\"lr_weighted_raw_data_pi_{pi:.1e}_lambda_{l:.1e}\".replace('.', '_').replace('e-0', 'e-')\n",
    "    model.fit(X_train, y_train, folder=folder, test_only=test_only)\n",
    "    llr = model.score(X_test) - np.log(pi / (1 - pi))\n",
    "    min_DCF, DCF, DCF_norm = compute_statistics(llr, y_test, pi)\n",
    "    models_performances[folder] = {'minDCF': min_DCF, 'DCF': DCF, 'DCF_norm': DCF_norm}"
   ]
  },
  {
   "cell_type": "markdown",
   "metadata": {},
   "source": [
    "##### Logistic Regression Quadratic Expansion (non-weighted)"
   ]
  },
  {
   "cell_type": "code",
   "execution_count": 12,
   "metadata": {},
   "outputs": [
    {
     "name": "stdout",
     "output_type": "stream",
     "text": [
      "Weights loaded successfully.\n",
      "Weights loaded successfully.\n",
      "Weights loaded successfully.\n",
      "Weights loaded successfully.\n",
      "Weights loaded successfully.\n",
      "Weights loaded successfully.\n",
      "Weights loaded successfully.\n",
      "Weights loaded successfully.\n",
      "Weights loaded successfully.\n",
      "Weights loaded successfully.\n",
      "Weights loaded successfully.\n",
      "Weights loaded successfully.\n",
      "Weights loaded successfully.\n"
     ]
    }
   ],
   "source": [
    "for l in lambda_:\n",
    "    model = QuadraticExpansion(lambda_=l)\n",
    "    X_train_quad = model.expand(X_train)\n",
    "    X_test_quad = model.expand(X_test)\n",
    "    folder = f\"lr_quad_raw_data_pi_{pi:.1e}_lambda_{l:.1e}\".replace('.', '_').replace('e-0', 'e-')\n",
    "    model.fit(X_train_quad, y_train, folder=folder, test_only=test_only)\n",
    "    llr = model.score(X_test_quad) - np.log(pEmp / (1 - pEmp))\n",
    "    min_DCF, DCF, DCF_norm = compute_statistics(llr, y_test, pi)\n",
    "    models_performances[folder] = {'minDCF': min_DCF, 'DCF': DCF, 'DCF_norm': DCF_norm}"
   ]
  },
  {
   "cell_type": "markdown",
   "metadata": {},
   "source": [
    "#### Logistic Regression non-weighted with standardization"
   ]
  },
  {
   "cell_type": "code",
   "execution_count": 13,
   "metadata": {},
   "outputs": [
    {
     "name": "stdout",
     "output_type": "stream",
     "text": [
      "Weights loaded successfully.\n",
      "Weights loaded successfully.\n",
      "Weights loaded successfully.\n",
      "Weights loaded successfully.\n",
      "Weights loaded successfully.\n",
      "Weights loaded successfully.\n",
      "Weights loaded successfully.\n",
      "Weights loaded successfully.\n",
      "Weights loaded successfully.\n",
      "Weights loaded successfully.\n",
      "Weights loaded successfully.\n",
      "Weights loaded successfully.\n",
      "Weights loaded successfully.\n"
     ]
    }
   ],
   "source": [
    "X_train_std, mean, std = pp.standardize(X_train, return_params=True)\n",
    "X_test_std = X_test - mean / std\n",
    "\n",
    "for l in lambda_:\n",
    "    model = LogisticRegression(lambda_=l)\n",
    "    folder = f\"lr_base_std_data_pi_{pi:.1e}_lambda_{l:.1e}\".replace('.', '_').replace('e-0', 'e-')\n",
    "    model.fit(X_train_std, y_train, folder=folder, test_only=test_only)\n",
    "    llr = model.score(X_test_std) - np.log(pEmp / (1 - pEmp))\n",
    "    min_DCF, DCF, DCF_norm = compute_statistics(llr, y_test, pi)\n",
    "    models_performances[folder] = {'minDCF': min_DCF, 'DCF': DCF, 'DCF_norm': DCF_norm}"
   ]
  },
  {
   "cell_type": "markdown",
   "metadata": {},
   "source": [
    "#### Logistic Regression weighted with standardization"
   ]
  },
  {
   "cell_type": "code",
   "execution_count": 14,
   "metadata": {},
   "outputs": [
    {
     "name": "stdout",
     "output_type": "stream",
     "text": [
      "Weights loaded successfully.\n",
      "Weights loaded successfully.\n",
      "Weights loaded successfully.\n",
      "Weights loaded successfully.\n",
      "Weights loaded successfully.\n",
      "Weights loaded successfully.\n",
      "Weights loaded successfully.\n",
      "Weights loaded successfully.\n",
      "Weights loaded successfully.\n",
      "Weights loaded successfully.\n",
      "Weights loaded successfully.\n",
      "Weights loaded successfully.\n",
      "Weights loaded successfully.\n"
     ]
    }
   ],
   "source": [
    "for l in lambda_:\n",
    "    model = LogisticRegressionWeighted(lambda_=l, pi=pi, n_T=n_T, n_F=n_F)\n",
    "    folder = f\"lr_weighted_std_data_pi_{pi:.1e}_lambda_{l:.1e}\".replace('.', '_').replace('e-0', 'e-')\n",
    "    model.fit(X_train_std, y_train, folder=folder, test_only=test_only)\n",
    "    llr = model.score(X_test_std) - np.log(pi / (1 - pi))\n",
    "    min_DCF, DCF, DCF_norm = compute_statistics(llr, y_test, pi)\n",
    "    models_performances[folder] = {'minDCF': min_DCF, 'DCF': DCF, 'DCF_norm': DCF_norm}"
   ]
  },
  {
   "cell_type": "markdown",
   "metadata": {},
   "source": [
    "#### SVM"
   ]
  },
  {
   "cell_type": "markdown",
   "metadata": {},
   "source": [
    "##### Linear SVM"
   ]
  },
  {
   "cell_type": "code",
   "execution_count": 15,
   "metadata": {},
   "outputs": [],
   "source": [
    "K = 1.0\n",
    "C = np.logspace(-5, 0, 11)\n",
    "pi = 0.1"
   ]
  },
  {
   "cell_type": "code",
   "execution_count": 16,
   "metadata": {},
   "outputs": [
    {
     "name": "stdout",
     "output_type": "stream",
     "text": [
      "Model loaded successfully.\n",
      "Model loaded successfully.\n",
      "Model loaded successfully.\n",
      "Model loaded successfully.\n",
      "Model loaded successfully.\n",
      "Model loaded successfully.\n",
      "Model loaded successfully.\n",
      "Model loaded successfully.\n",
      "Model loaded successfully.\n",
      "Model loaded successfully.\n",
      "Model loaded successfully.\n"
     ]
    }
   ],
   "source": [
    "for c in C:\n",
    "    model = SVMClassifier(C=c, K=K)\n",
    "    folder = f\"svm_linear_raw_data_K_{K:.1e}_C_{c:.1e}\".replace('.', '_').replace('e-0', 'e-')\n",
    "    model.fit(X_train, y_train, folder, test_only)\n",
    "    llr = model.score(X_test)\n",
    "    min_DCF, DCF, DCF_norm = compute_statistics(llr, y_test, pi)\n",
    "    models_performances[folder] = {'minDCF': min_DCF, 'DCF': DCF, 'DCF_norm': DCF_norm}"
   ]
  },
  {
   "cell_type": "markdown",
   "metadata": {},
   "source": [
    "#### Linear SVM - Centered Data"
   ]
  },
  {
   "cell_type": "code",
   "execution_count": 17,
   "metadata": {},
   "outputs": [
    {
     "name": "stdout",
     "output_type": "stream",
     "text": [
      "Model loaded successfully.\n",
      "Model loaded successfully.\n",
      "Model loaded successfully.\n",
      "Model loaded successfully.\n",
      "Model loaded successfully.\n",
      "Model loaded successfully.\n",
      "Model loaded successfully.\n",
      "Model loaded successfully.\n",
      "Model loaded successfully.\n",
      "Model loaded successfully.\n",
      "Model loaded successfully.\n"
     ]
    }
   ],
   "source": [
    "X_train_std, mean, std = pp.standardize(X_train, return_params=True)\n",
    "X_test_std = X_test - mean / std\n",
    "\n",
    "for c in C:\n",
    "    model = SVMClassifier(C=c, K=K)\n",
    "    folder = f\"svm_linear_std_data_K_{K:.1e}_C_{c:.1e}\".replace('.', '_').replace('e-0', 'e-')\n",
    "    model.fit(X_train_std, y_train, folder, test_only)\n",
    "    llr = model.score(X_test_std)\n",
    "    min_DCF, DCF, DCF_norm = compute_statistics(llr, y_test, pi)\n",
    "    models_performances[folder] = {'minDCF': min_DCF, 'DCF': DCF, 'DCF_norm': DCF_norm}"
   ]
  },
  {
   "cell_type": "markdown",
   "metadata": {},
   "source": [
    "#### Kernel SVM - Polynomial"
   ]
  },
  {
   "cell_type": "code",
   "execution_count": 18,
   "metadata": {},
   "outputs": [],
   "source": [
    "d = 2\n",
    "c = 1\n",
    "eps = 0"
   ]
  },
  {
   "cell_type": "code",
   "execution_count": 19,
   "metadata": {},
   "outputs": [
    {
     "name": "stdout",
     "output_type": "stream",
     "text": [
      "Model loaded successfully.\n",
      "Model loaded successfully.\n",
      "Model loaded successfully.\n",
      "Model loaded successfully.\n",
      "Model loaded successfully.\n",
      "Model loaded successfully.\n",
      "Model loaded successfully.\n",
      "Model loaded successfully.\n",
      "Model loaded successfully.\n",
      "Model loaded successfully.\n",
      "Model loaded successfully.\n"
     ]
    }
   ],
   "source": [
    "for ci in C:\n",
    "    model = SVMClassifierPolyKernel(C=ci, eps=eps, degree=d, delta=c)\n",
    "    folder = f\"svm_poly_raw_data_degree_{d}_delta_{c}_eps_{eps}_C_{ci:.1e}\".replace('.', '_').replace('e-0', 'e-')\n",
    "    model.fit(X_train, y_train, folder, test_only)\n",
    "    llr = model.score(X_test)\n",
    "    min_DCF, DCF, DCF_norm = compute_statistics(llr, y_test, pi)\n",
    "    models_performances[folder] = {'minDCF': min_DCF, 'DCF': DCF, 'DCF_norm': DCF_norm}"
   ]
  },
  {
   "cell_type": "markdown",
   "metadata": {},
   "source": [
    "#### Kernel SVM - RBF"
   ]
  },
  {
   "cell_type": "code",
   "execution_count": 20,
   "metadata": {},
   "outputs": [],
   "source": [
    "eps = 1.0\n",
    "gamma = [1e-4, 1e-3, 1e-2, 1e-1]\n",
    "C = np.logspace(-3, 2, 11)"
   ]
  },
  {
   "cell_type": "code",
   "execution_count": 21,
   "metadata": {},
   "outputs": [
    {
     "name": "stdout",
     "output_type": "stream",
     "text": [
      "Model loaded successfully.\n",
      "Model loaded successfully.\n",
      "Model loaded successfully.\n",
      "Model loaded successfully.\n",
      "Model loaded successfully.\n",
      "Model loaded successfully.\n",
      "Model loaded successfully.\n",
      "Model loaded successfully.\n",
      "Model loaded successfully.\n",
      "Model loaded successfully.\n",
      "Model loaded successfully.\n",
      "Model loaded successfully.\n",
      "Model loaded successfully.\n",
      "Model loaded successfully.\n",
      "Model loaded successfully.\n",
      "Model loaded successfully.\n",
      "Model loaded successfully.\n",
      "Model loaded successfully.\n",
      "Model loaded successfully.\n",
      "Model loaded successfully.\n",
      "Model loaded successfully.\n",
      "Model loaded successfully.\n",
      "Model loaded successfully.\n",
      "Model loaded successfully.\n",
      "Model loaded successfully.\n",
      "Model loaded successfully.\n",
      "Model loaded successfully.\n",
      "Model loaded successfully.\n",
      "Model loaded successfully.\n",
      "Model loaded successfully.\n",
      "Model loaded successfully.\n",
      "Model loaded successfully.\n",
      "Model loaded successfully.\n",
      "Model loaded successfully.\n",
      "Model loaded successfully.\n",
      "Model loaded successfully.\n",
      "Model loaded successfully.\n",
      "Model loaded successfully.\n",
      "Model loaded successfully.\n",
      "Model loaded successfully.\n",
      "Model loaded successfully.\n",
      "Model loaded successfully.\n",
      "Model loaded successfully.\n",
      "Model loaded successfully.\n"
     ]
    }
   ],
   "source": [
    "for g in gamma:\n",
    "    for c in C:\n",
    "        model = SVMClassifierRBFKernel(C=c, gamma=g, eps=eps)\n",
    "        folder = f\"svm_rbf_raw_data_gamma_{g:.1e}_eps_{eps}_C_{c:.1e}\".replace('.', '_').replace('e-0', 'e-')\n",
    "        model.fit(X_train, y_train, folder, test_only)\n",
    "        llr = model.score(X_test)\n",
    "        min_DCF, DCF, DCF_norm = compute_statistics(llr, y_test, pi)\n",
    "        models_performances[folder] = {'minDCF': min_DCF, 'DCF': DCF, 'DCF_norm': DCF_norm}"
   ]
  },
  {
   "cell_type": "code",
   "execution_count": 22,
   "metadata": {},
   "outputs": [
    {
     "name": "stdout",
     "output_type": "stream",
     "text": [
      "number of models: 154\n"
     ]
    }
   ],
   "source": [
    "print(f\"number of models: {len(models_performances)}\")"
   ]
  },
  {
   "cell_type": "code",
   "execution_count": 40,
   "metadata": {},
   "outputs": [
    {
     "name": "stdout",
     "output_type": "stream",
     "text": [
      "Model: gmm_full_1_components\n",
      "\tminDCF: 0.2629\n",
      "\tDCF: 0.0305\n",
      "\tDCF_norm: 0.3051\n",
      "Model: gmm_full_2_components\n",
      "\tminDCF: 0.2160\n",
      "\tDCF: 0.0234\n",
      "\tDCF_norm: 0.2337\n",
      "Model: gmm_full_4_components\n",
      "\tminDCF: 0.2161\n",
      "\tDCF: 0.0240\n",
      "\tDCF_norm: 0.2395\n",
      "Model: gmm_full_8_components\n",
      "\tminDCF: 0.1786\n",
      "\tDCF: 0.0193\n",
      "\tDCF_norm: 0.1928\n",
      "Model: gmm_full_16_components\n",
      "\tminDCF: 0.1631\n",
      "\tDCF: 0.0177\n",
      "\tDCF_norm: 0.1766\n",
      "Model: gmm_full_32_components\n",
      "\tminDCF: 0.2337\n",
      "\tDCF: 0.0250\n",
      "\tDCF_norm: 0.2499\n",
      "Model: gmm_diagonal_1_components\n",
      "\tminDCF: 0.2570\n",
      "\tDCF: 0.0302\n",
      "\tDCF_norm: 0.3022\n",
      "Model: gmm_diagonal_2_components\n",
      "\tminDCF: 0.2489\n",
      "\tDCF: 0.0267\n",
      "\tDCF_norm: 0.2674\n",
      "Model: gmm_diagonal_4_components\n",
      "\tminDCF: 0.1481\n",
      "\tDCF: 0.0169\n",
      "\tDCF_norm: 0.1687\n",
      "Model: gmm_diagonal_8_components\n",
      "\tminDCF: 0.1463\n",
      "\tDCF: 0.0181\n",
      "\tDCF_norm: 0.1809\n",
      "Model: gmm_diagonal_16_components\n",
      "\tminDCF: 0.1622\n",
      "\tDCF: 0.0177\n",
      "\tDCF_norm: 0.1769\n",
      "Model: gmm_diagonal_32_components\n",
      "\tminDCF: 0.1766\n",
      "\tDCF: 0.0199\n",
      "\tDCF_norm: 0.1989\n",
      "Model: lr_base_raw_data_pi_1_0e-1_lambda_1_0e-4\n",
      "\tminDCF: 0.3640\n",
      "\tDCF: 0.0402\n",
      "\tDCF_norm: 0.4021\n",
      "Model: lr_base_raw_data_pi_1_0e-1_lambda_3_2e-4\n",
      "\tminDCF: 0.3650\n",
      "\tDCF: 0.0405\n",
      "\tDCF_norm: 0.4051\n",
      "Model: lr_base_raw_data_pi_1_0e-1_lambda_1_0e-3\n",
      "\tminDCF: 0.3650\n",
      "\tDCF: 0.0413\n",
      "\tDCF_norm: 0.4130\n",
      "Model: lr_base_raw_data_pi_1_0e-1_lambda_3_2e-3\n",
      "\tminDCF: 0.3641\n",
      "\tDCF: 0.0430\n",
      "\tDCF_norm: 0.4297\n",
      "Model: lr_base_raw_data_pi_1_0e-1_lambda_1_0e-2\n",
      "\tminDCF: 0.3611\n",
      "\tDCF: 0.0457\n",
      "\tDCF_norm: 0.4568\n",
      "Model: lr_base_raw_data_pi_1_0e-1_lambda_3_2e-2\n",
      "\tminDCF: 0.3621\n",
      "\tDCF: 0.0581\n",
      "\tDCF_norm: 0.5805\n",
      "Model: lr_base_raw_data_pi_1_0e-1_lambda_1_0e-1\n",
      "\tminDCF: 0.3641\n",
      "\tDCF: 0.0852\n",
      "\tDCF_norm: 0.8522\n",
      "Model: lr_base_raw_data_pi_1_0e-1_lambda_3_2e-1\n",
      "\tminDCF: 0.3640\n",
      "\tDCF: 0.0995\n",
      "\tDCF_norm: 0.9950\n",
      "Model: lr_base_raw_data_pi_1_0e-1_lambda_1_0e+00\n",
      "\tminDCF: 0.3640\n",
      "\tDCF: 0.1000\n",
      "\tDCF_norm: 1.0000\n",
      "Model: lr_base_raw_data_pi_1_0e-1_lambda_3_2e+00\n",
      "\tminDCF: 0.3640\n",
      "\tDCF: 0.1000\n",
      "\tDCF_norm: 1.0000\n",
      "Model: lr_base_raw_data_pi_1_0e-1_lambda_1_0e+01\n",
      "\tminDCF: 0.3630\n",
      "\tDCF: 0.1000\n",
      "\tDCF_norm: 1.0000\n",
      "Model: lr_base_raw_data_pi_1_0e-1_lambda_3_2e+01\n",
      "\tminDCF: 0.3620\n",
      "\tDCF: 0.1000\n",
      "\tDCF_norm: 1.0000\n",
      "Model: lr_base_raw_data_pi_1_0e-1_lambda_1_0e+02\n",
      "\tminDCF: 0.3620\n",
      "\tDCF: 0.1000\n",
      "\tDCF_norm: 1.0000\n",
      "Model: lr_weighted_raw_data_pi_1_0e-1_lambda_1_0e-4\n",
      "\tminDCF: 0.3721\n",
      "\tDCF: 0.0407\n",
      "\tDCF_norm: 0.4071\n",
      "Model: lr_weighted_raw_data_pi_1_0e-1_lambda_3_2e-4\n",
      "\tminDCF: 0.3701\n",
      "\tDCF: 0.0401\n",
      "\tDCF_norm: 0.4010\n",
      "Model: lr_weighted_raw_data_pi_1_0e-1_lambda_1_0e-3\n",
      "\tminDCF: 0.3699\n",
      "\tDCF: 0.0413\n",
      "\tDCF_norm: 0.4129\n",
      "Model: lr_weighted_raw_data_pi_1_0e-1_lambda_3_2e-3\n",
      "\tminDCF: 0.3670\n",
      "\tDCF: 0.0433\n",
      "\tDCF_norm: 0.4327\n",
      "Model: lr_weighted_raw_data_pi_1_0e-1_lambda_1_0e-2\n",
      "\tminDCF: 0.3630\n",
      "\tDCF: 0.0449\n",
      "\tDCF_norm: 0.4487\n",
      "Model: lr_weighted_raw_data_pi_1_0e-1_lambda_3_2e-2\n",
      "\tminDCF: 0.3640\n",
      "\tDCF: 0.0596\n",
      "\tDCF_norm: 0.5964\n",
      "Model: lr_weighted_raw_data_pi_1_0e-1_lambda_1_0e-1\n",
      "\tminDCF: 0.3648\n",
      "\tDCF: 0.0915\n",
      "\tDCF_norm: 0.9147\n",
      "Model: lr_weighted_raw_data_pi_1_0e-1_lambda_3_2e-1\n",
      "\tminDCF: 0.3640\n",
      "\tDCF: 0.1000\n",
      "\tDCF_norm: 1.0000\n",
      "Model: lr_weighted_raw_data_pi_1_0e-1_lambda_1_0e+00\n",
      "\tminDCF: 0.3640\n",
      "\tDCF: 0.1000\n",
      "\tDCF_norm: 1.0000\n",
      "Model: lr_weighted_raw_data_pi_1_0e-1_lambda_3_2e+00\n",
      "\tminDCF: 0.3630\n",
      "\tDCF: 0.1000\n",
      "\tDCF_norm: 1.0000\n",
      "Model: lr_weighted_raw_data_pi_1_0e-1_lambda_1_0e+01\n",
      "\tminDCF: 0.3630\n",
      "\tDCF: 0.1000\n",
      "\tDCF_norm: 1.0000\n",
      "Model: lr_weighted_raw_data_pi_1_0e-1_lambda_3_2e+01\n",
      "\tminDCF: 0.3620\n",
      "\tDCF: 0.1000\n",
      "\tDCF_norm: 1.0000\n",
      "Model: lr_weighted_raw_data_pi_1_0e-1_lambda_1_0e+02\n",
      "\tminDCF: 0.3620\n",
      "\tDCF: 0.1000\n",
      "\tDCF_norm: 1.0000\n",
      "Model: lr_quad_raw_data_pi_1_0e-1_lambda_1_0e-4\n",
      "\tminDCF: 0.2602\n",
      "\tDCF: 0.0277\n",
      "\tDCF_norm: 0.2768\n",
      "Model: lr_quad_raw_data_pi_1_0e-1_lambda_3_2e-4\n",
      "\tminDCF: 0.2612\n",
      "\tDCF: 0.0266\n",
      "\tDCF_norm: 0.2656\n",
      "Model: lr_quad_raw_data_pi_1_0e-1_lambda_1_0e-3\n",
      "\tminDCF: 0.2587\n",
      "\tDCF: 0.0277\n",
      "\tDCF_norm: 0.2765\n",
      "Model: lr_quad_raw_data_pi_1_0e-1_lambda_3_2e-3\n",
      "\tminDCF: 0.2527\n",
      "\tDCF: 0.0277\n",
      "\tDCF_norm: 0.2771\n",
      "Model: lr_quad_raw_data_pi_1_0e-1_lambda_1_0e-2\n",
      "\tminDCF: 0.2487\n",
      "\tDCF: 0.0346\n",
      "\tDCF_norm: 0.3464\n",
      "Model: lr_quad_raw_data_pi_1_0e-1_lambda_3_2e-2\n",
      "\tminDCF: 0.2436\n",
      "\tDCF: 0.0497\n",
      "\tDCF_norm: 0.4972\n",
      "Model: lr_quad_raw_data_pi_1_0e-1_lambda_1_0e-1\n",
      "\tminDCF: 0.2466\n",
      "\tDCF: 0.0752\n",
      "\tDCF_norm: 0.7520\n",
      "Model: lr_quad_raw_data_pi_1_0e-1_lambda_3_2e-1\n",
      "\tminDCF: 0.2629\n",
      "\tDCF: 0.0962\n",
      "\tDCF_norm: 0.9623\n",
      "Model: lr_quad_raw_data_pi_1_0e-1_lambda_1_0e+00\n",
      "\tminDCF: 0.2840\n",
      "\tDCF: 0.1000\n",
      "\tDCF_norm: 1.0000\n",
      "Model: lr_quad_raw_data_pi_1_0e-1_lambda_3_2e+00\n",
      "\tminDCF: 0.3090\n",
      "\tDCF: 0.1000\n",
      "\tDCF_norm: 1.0000\n",
      "Model: lr_quad_raw_data_pi_1_0e-1_lambda_1_0e+01\n",
      "\tminDCF: 0.3243\n",
      "\tDCF: 0.1000\n",
      "\tDCF_norm: 1.0000\n",
      "Model: lr_quad_raw_data_pi_1_0e-1_lambda_3_2e+01\n",
      "\tminDCF: 0.3263\n",
      "\tDCF: 0.1000\n",
      "\tDCF_norm: 1.0000\n",
      "Model: lr_quad_raw_data_pi_1_0e-1_lambda_1_0e+02\n",
      "\tminDCF: 0.3263\n",
      "\tDCF: 0.1000\n",
      "\tDCF_norm: 1.0000\n",
      "Model: lr_base_std_data_pi_1_0e-1_lambda_1_0e-4\n",
      "\tminDCF: 0.3650\n",
      "\tDCF: 0.0402\n",
      "\tDCF_norm: 0.4021\n",
      "Model: lr_base_std_data_pi_1_0e-1_lambda_3_2e-4\n",
      "\tminDCF: 0.3650\n",
      "\tDCF: 0.0405\n",
      "\tDCF_norm: 0.4051\n",
      "Model: lr_base_std_data_pi_1_0e-1_lambda_1_0e-3\n",
      "\tminDCF: 0.3650\n",
      "\tDCF: 0.0412\n",
      "\tDCF_norm: 0.4120\n",
      "Model: lr_base_std_data_pi_1_0e-1_lambda_3_2e-3\n",
      "\tminDCF: 0.3641\n",
      "\tDCF: 0.0430\n",
      "\tDCF_norm: 0.4297\n",
      "Model: lr_base_std_data_pi_1_0e-1_lambda_1_0e-2\n",
      "\tminDCF: 0.3611\n",
      "\tDCF: 0.0457\n",
      "\tDCF_norm: 0.4568\n",
      "Model: lr_base_std_data_pi_1_0e-1_lambda_3_2e-2\n",
      "\tminDCF: 0.3621\n",
      "\tDCF: 0.0579\n",
      "\tDCF_norm: 0.5785\n",
      "Model: lr_base_std_data_pi_1_0e-1_lambda_1_0e-1\n",
      "\tminDCF: 0.3641\n",
      "\tDCF: 0.0851\n",
      "\tDCF_norm: 0.8512\n",
      "Model: lr_base_std_data_pi_1_0e-1_lambda_3_2e-1\n",
      "\tminDCF: 0.3640\n",
      "\tDCF: 0.0995\n",
      "\tDCF_norm: 0.9950\n",
      "Model: lr_base_std_data_pi_1_0e-1_lambda_1_0e+00\n",
      "\tminDCF: 0.3640\n",
      "\tDCF: 0.1000\n",
      "\tDCF_norm: 1.0000\n",
      "Model: lr_base_std_data_pi_1_0e-1_lambda_3_2e+00\n",
      "\tminDCF: 0.3640\n",
      "\tDCF: 0.1000\n",
      "\tDCF_norm: 1.0000\n",
      "Model: lr_base_std_data_pi_1_0e-1_lambda_1_0e+01\n",
      "\tminDCF: 0.3630\n",
      "\tDCF: 0.1000\n",
      "\tDCF_norm: 1.0000\n",
      "Model: lr_base_std_data_pi_1_0e-1_lambda_3_2e+01\n",
      "\tminDCF: 0.3620\n",
      "\tDCF: 0.1000\n",
      "\tDCF_norm: 1.0000\n",
      "Model: lr_base_std_data_pi_1_0e-1_lambda_1_0e+02\n",
      "\tminDCF: 0.3620\n",
      "\tDCF: 0.1000\n",
      "\tDCF_norm: 1.0000\n",
      "Model: lr_weighted_std_data_pi_1_0e-1_lambda_1_0e-4\n",
      "\tminDCF: 0.3721\n",
      "\tDCF: 0.0407\n",
      "\tDCF_norm: 0.4071\n",
      "Model: lr_weighted_std_data_pi_1_0e-1_lambda_3_2e-4\n",
      "\tminDCF: 0.3711\n",
      "\tDCF: 0.0409\n",
      "\tDCF_norm: 0.4090\n",
      "Model: lr_weighted_std_data_pi_1_0e-1_lambda_1_0e-3\n",
      "\tminDCF: 0.3699\n",
      "\tDCF: 0.0412\n",
      "\tDCF_norm: 0.4119\n",
      "Model: lr_weighted_std_data_pi_1_0e-1_lambda_3_2e-3\n",
      "\tminDCF: 0.3670\n",
      "\tDCF: 0.0433\n",
      "\tDCF_norm: 0.4327\n",
      "Model: lr_weighted_std_data_pi_1_0e-1_lambda_1_0e-2\n",
      "\tminDCF: 0.3630\n",
      "\tDCF: 0.0449\n",
      "\tDCF_norm: 0.4487\n",
      "Model: lr_weighted_std_data_pi_1_0e-1_lambda_3_2e-2\n",
      "\tminDCF: 0.3640\n",
      "\tDCF: 0.0596\n",
      "\tDCF_norm: 0.5964\n",
      "Model: lr_weighted_std_data_pi_1_0e-1_lambda_1_0e-1\n",
      "\tminDCF: 0.3648\n",
      "\tDCF: 0.0915\n",
      "\tDCF_norm: 0.9147\n",
      "Model: lr_weighted_std_data_pi_1_0e-1_lambda_3_2e-1\n",
      "\tminDCF: 0.3640\n",
      "\tDCF: 0.1000\n",
      "\tDCF_norm: 1.0000\n",
      "Model: lr_weighted_std_data_pi_1_0e-1_lambda_1_0e+00\n",
      "\tminDCF: 0.3640\n",
      "\tDCF: 0.1000\n",
      "\tDCF_norm: 1.0000\n",
      "Model: lr_weighted_std_data_pi_1_0e-1_lambda_3_2e+00\n",
      "\tminDCF: 0.3630\n",
      "\tDCF: 0.1000\n",
      "\tDCF_norm: 1.0000\n",
      "Model: lr_weighted_std_data_pi_1_0e-1_lambda_1_0e+01\n",
      "\tminDCF: 0.3630\n",
      "\tDCF: 0.1000\n",
      "\tDCF_norm: 1.0000\n",
      "Model: lr_weighted_std_data_pi_1_0e-1_lambda_3_2e+01\n",
      "\tminDCF: 0.3620\n",
      "\tDCF: 0.1000\n",
      "\tDCF_norm: 1.0000\n",
      "Model: lr_weighted_std_data_pi_1_0e-1_lambda_1_0e+02\n",
      "\tminDCF: 0.3620\n",
      "\tDCF: 0.1000\n",
      "\tDCF_norm: 1.0000\n",
      "Model: svm_linear_raw_data_K_1_0e+00_C_1_0e-5\n",
      "\tminDCF: 1.0000\n",
      "\tDCF: 0.1000\n",
      "\tDCF_norm: 1.0000\n",
      "Model: svm_linear_raw_data_K_1_0e+00_C_3_2e-5\n",
      "\tminDCF: 0.3620\n",
      "\tDCF: 0.1000\n",
      "\tDCF_norm: 1.0000\n",
      "Model: svm_linear_raw_data_K_1_0e+00_C_1_0e-4\n",
      "\tminDCF: 0.3640\n",
      "\tDCF: 0.1000\n",
      "\tDCF_norm: 1.0000\n",
      "Model: svm_linear_raw_data_K_1_0e+00_C_3_2e-4\n",
      "\tminDCF: 0.3620\n",
      "\tDCF: 0.0999\n",
      "\tDCF_norm: 0.9990\n",
      "Model: svm_linear_raw_data_K_1_0e+00_C_1_0e-3\n",
      "\tminDCF: 0.3620\n",
      "\tDCF: 0.0959\n",
      "\tDCF_norm: 0.9593\n",
      "Model: svm_linear_raw_data_K_1_0e+00_C_3_2e-3\n",
      "\tminDCF: 0.3650\n",
      "\tDCF: 0.0845\n",
      "\tDCF_norm: 0.8452\n",
      "Model: svm_linear_raw_data_K_1_0e+00_C_1_0e-2\n",
      "\tminDCF: 0.3620\n",
      "\tDCF: 0.0672\n",
      "\tDCF_norm: 0.6718\n",
      "Model: svm_linear_raw_data_K_1_0e+00_C_3_2e-2\n",
      "\tminDCF: 0.3590\n",
      "\tDCF: 0.0579\n",
      "\tDCF_norm: 0.5787\n",
      "Model: svm_linear_raw_data_K_1_0e+00_C_1_0e-1\n",
      "\tminDCF: 0.3582\n",
      "\tDCF: 0.0516\n",
      "\tDCF_norm: 0.5162\n",
      "Model: svm_linear_raw_data_K_1_0e+00_C_3_2e-1\n",
      "\tminDCF: 0.3582\n",
      "\tDCF: 0.0497\n",
      "\tDCF_norm: 0.4973\n",
      "Model: svm_linear_raw_data_K_1_0e+00_C_1_0e+00\n",
      "\tminDCF: 0.3582\n",
      "\tDCF: 0.0489\n",
      "\tDCF_norm: 0.4894\n",
      "Model: svm_linear_std_data_K_1_0e+00_C_1_0e-5\n",
      "\tminDCF: 1.0000\n",
      "\tDCF: 0.1000\n",
      "\tDCF_norm: 1.0000\n",
      "Model: svm_linear_std_data_K_1_0e+00_C_3_2e-5\n",
      "\tminDCF: 0.3620\n",
      "\tDCF: 0.1000\n",
      "\tDCF_norm: 1.0000\n",
      "Model: svm_linear_std_data_K_1_0e+00_C_1_0e-4\n",
      "\tminDCF: 0.3640\n",
      "\tDCF: 0.1000\n",
      "\tDCF_norm: 1.0000\n",
      "Model: svm_linear_std_data_K_1_0e+00_C_3_2e-4\n",
      "\tminDCF: 0.3630\n",
      "\tDCF: 0.0999\n",
      "\tDCF_norm: 0.9990\n",
      "Model: svm_linear_std_data_K_1_0e+00_C_1_0e-3\n",
      "\tminDCF: 0.3610\n",
      "\tDCF: 0.0959\n",
      "\tDCF_norm: 0.9593\n",
      "Model: svm_linear_std_data_K_1_0e+00_C_3_2e-3\n",
      "\tminDCF: 0.3650\n",
      "\tDCF: 0.0845\n",
      "\tDCF_norm: 0.8452\n",
      "Model: svm_linear_std_data_K_1_0e+00_C_1_0e-2\n",
      "\tminDCF: 0.3620\n",
      "\tDCF: 0.0671\n",
      "\tDCF_norm: 0.6708\n",
      "Model: svm_linear_std_data_K_1_0e+00_C_3_2e-2\n",
      "\tminDCF: 0.3590\n",
      "\tDCF: 0.0577\n",
      "\tDCF_norm: 0.5767\n",
      "Model: svm_linear_std_data_K_1_0e+00_C_1_0e-1\n",
      "\tminDCF: 0.3582\n",
      "\tDCF: 0.0515\n",
      "\tDCF_norm: 0.5152\n",
      "Model: svm_linear_std_data_K_1_0e+00_C_3_2e-1\n",
      "\tminDCF: 0.3582\n",
      "\tDCF: 0.0496\n",
      "\tDCF_norm: 0.4963\n",
      "Model: svm_linear_std_data_K_1_0e+00_C_1_0e+00\n",
      "\tminDCF: 0.3582\n",
      "\tDCF: 0.0488\n",
      "\tDCF_norm: 0.4884\n",
      "Model: svm_poly_raw_data_degree_2_delta_1_eps_0_C_1_0e-5\n",
      "\tminDCF: 1.0000\n",
      "\tDCF: 0.1000\n",
      "\tDCF_norm: 1.0000\n",
      "Model: svm_poly_raw_data_degree_2_delta_1_eps_0_C_3_2e-5\n",
      "\tminDCF: 0.2455\n",
      "\tDCF: 0.1000\n",
      "\tDCF_norm: 1.0000\n",
      "Model: svm_poly_raw_data_degree_2_delta_1_eps_0_C_1_0e-4\n",
      "\tminDCF: 0.2513\n",
      "\tDCF: 0.1000\n",
      "\tDCF_norm: 1.0000\n",
      "Model: svm_poly_raw_data_degree_2_delta_1_eps_0_C_3_2e-4\n",
      "\tminDCF: 0.2509\n",
      "\tDCF: 0.0994\n",
      "\tDCF_norm: 0.9940\n",
      "Model: svm_poly_raw_data_degree_2_delta_1_eps_0_C_1_0e-3\n",
      "\tminDCF: 0.2565\n",
      "\tDCF: 0.0920\n",
      "\tDCF_norm: 0.9196\n",
      "Model: svm_poly_raw_data_degree_2_delta_1_eps_0_C_3_2e-3\n",
      "\tminDCF: 0.2530\n",
      "\tDCF: 0.0751\n",
      "\tDCF_norm: 0.7510\n",
      "Model: svm_poly_raw_data_degree_2_delta_1_eps_0_C_1_0e-2\n",
      "\tminDCF: 0.2528\n",
      "\tDCF: 0.0588\n",
      "\tDCF_norm: 0.5884\n",
      "Model: svm_poly_raw_data_degree_2_delta_1_eps_0_C_3_2e-2\n",
      "\tminDCF: 0.2455\n",
      "\tDCF: 0.0467\n",
      "\tDCF_norm: 0.4674\n",
      "Model: svm_poly_raw_data_degree_2_delta_1_eps_0_C_1_0e-1\n",
      "\tminDCF: 0.2480\n",
      "\tDCF: 0.0411\n",
      "\tDCF_norm: 0.4109\n",
      "Model: svm_poly_raw_data_degree_2_delta_1_eps_0_C_3_2e-1\n",
      "\tminDCF: 0.2612\n",
      "\tDCF: 0.0390\n",
      "\tDCF_norm: 0.3900\n",
      "Model: svm_poly_raw_data_degree_2_delta_1_eps_0_C_1_0e+00\n",
      "\tminDCF: 0.2582\n",
      "\tDCF: 0.0386\n",
      "\tDCF_norm: 0.3861\n",
      "Model: svm_rbf_raw_data_gamma_1_0e-4_eps_1_0_C_1_0e-3\n",
      "\tminDCF: 0.3640\n",
      "\tDCF: 0.1000\n",
      "\tDCF_norm: 1.0000\n",
      "Model: svm_rbf_raw_data_gamma_1_0e-4_eps_1_0_C_3_2e-3\n",
      "\tminDCF: 0.3640\n",
      "\tDCF: 0.1000\n",
      "\tDCF_norm: 1.0000\n",
      "Model: svm_rbf_raw_data_gamma_1_0e-4_eps_1_0_C_1_0e-2\n",
      "\tminDCF: 0.3640\n",
      "\tDCF: 0.1000\n",
      "\tDCF_norm: 1.0000\n",
      "Model: svm_rbf_raw_data_gamma_1_0e-4_eps_1_0_C_3_2e-2\n",
      "\tminDCF: 0.3640\n",
      "\tDCF: 0.1000\n",
      "\tDCF_norm: 1.0000\n",
      "Model: svm_rbf_raw_data_gamma_1_0e-4_eps_1_0_C_1_0e-1\n",
      "\tminDCF: 0.3640\n",
      "\tDCF: 0.1000\n",
      "\tDCF_norm: 1.0000\n",
      "Model: svm_rbf_raw_data_gamma_1_0e-4_eps_1_0_C_3_2e-1\n",
      "\tminDCF: 0.3640\n",
      "\tDCF: 0.1000\n",
      "\tDCF_norm: 1.0000\n",
      "Model: svm_rbf_raw_data_gamma_1_0e-4_eps_1_0_C_1_0e+00\n",
      "\tminDCF: 0.3631\n",
      "\tDCF: 0.1000\n",
      "\tDCF_norm: 1.0000\n",
      "Model: svm_rbf_raw_data_gamma_1_0e-4_eps_1_0_C_3_2e+00\n",
      "\tminDCF: 0.3580\n",
      "\tDCF: 0.0988\n",
      "\tDCF_norm: 0.9881\n",
      "Model: svm_rbf_raw_data_gamma_1_0e-4_eps_1_0_C_1_0e+01\n",
      "\tminDCF: 0.3600\n",
      "\tDCF: 0.0900\n",
      "\tDCF_norm: 0.8998\n",
      "Model: svm_rbf_raw_data_gamma_1_0e-4_eps_1_0_C_3_2e+01\n",
      "\tminDCF: 0.3620\n",
      "\tDCF: 0.0732\n",
      "\tDCF_norm: 0.7323\n",
      "Model: svm_rbf_raw_data_gamma_1_0e-4_eps_1_0_C_1_0e+02\n",
      "\tminDCF: 0.3560\n",
      "\tDCF: 0.0601\n",
      "\tDCF_norm: 0.6013\n",
      "Model: svm_rbf_raw_data_gamma_1_0e-3_eps_1_0_C_1_0e-3\n",
      "\tminDCF: 0.3630\n",
      "\tDCF: 0.1000\n",
      "\tDCF_norm: 1.0000\n",
      "Model: svm_rbf_raw_data_gamma_1_0e-3_eps_1_0_C_3_2e-3\n",
      "\tminDCF: 0.3630\n",
      "\tDCF: 0.1000\n",
      "\tDCF_norm: 1.0000\n",
      "Model: svm_rbf_raw_data_gamma_1_0e-3_eps_1_0_C_1_0e-2\n",
      "\tminDCF: 0.3630\n",
      "\tDCF: 0.1000\n",
      "\tDCF_norm: 1.0000\n",
      "Model: svm_rbf_raw_data_gamma_1_0e-3_eps_1_0_C_3_2e-2\n",
      "\tminDCF: 0.3630\n",
      "\tDCF: 0.1000\n",
      "\tDCF_norm: 1.0000\n",
      "Model: svm_rbf_raw_data_gamma_1_0e-3_eps_1_0_C_1_0e-1\n",
      "\tminDCF: 0.3631\n",
      "\tDCF: 0.1000\n",
      "\tDCF_norm: 1.0000\n",
      "Model: svm_rbf_raw_data_gamma_1_0e-3_eps_1_0_C_3_2e-1\n",
      "\tminDCF: 0.3560\n",
      "\tDCF: 0.0989\n",
      "\tDCF_norm: 0.9891\n",
      "Model: svm_rbf_raw_data_gamma_1_0e-3_eps_1_0_C_1_0e+00\n",
      "\tminDCF: 0.3580\n",
      "\tDCF: 0.0905\n",
      "\tDCF_norm: 0.9048\n",
      "Model: svm_rbf_raw_data_gamma_1_0e-3_eps_1_0_C_3_2e+00\n",
      "\tminDCF: 0.3620\n",
      "\tDCF: 0.0734\n",
      "\tDCF_norm: 0.7343\n",
      "Model: svm_rbf_raw_data_gamma_1_0e-3_eps_1_0_C_1_0e+01\n",
      "\tminDCF: 0.3521\n",
      "\tDCF: 0.0613\n",
      "\tDCF_norm: 0.6132\n",
      "Model: svm_rbf_raw_data_gamma_1_0e-3_eps_1_0_C_3_2e+01\n",
      "\tminDCF: 0.3470\n",
      "\tDCF: 0.0549\n",
      "\tDCF_norm: 0.5489\n",
      "Model: svm_rbf_raw_data_gamma_1_0e-3_eps_1_0_C_1_0e+02\n",
      "\tminDCF: 0.3312\n",
      "\tDCF: 0.0525\n",
      "\tDCF_norm: 0.5251\n",
      "Model: svm_rbf_raw_data_gamma_1_0e-2_eps_1_0_C_1_0e-3\n",
      "\tminDCF: 0.3600\n",
      "\tDCF: 0.1000\n",
      "\tDCF_norm: 1.0000\n",
      "Model: svm_rbf_raw_data_gamma_1_0e-2_eps_1_0_C_3_2e-3\n",
      "\tminDCF: 0.3600\n",
      "\tDCF: 0.1000\n",
      "\tDCF_norm: 1.0000\n",
      "Model: svm_rbf_raw_data_gamma_1_0e-2_eps_1_0_C_1_0e-2\n",
      "\tminDCF: 0.3569\n",
      "\tDCF: 0.1000\n",
      "\tDCF_norm: 1.0000\n",
      "Model: svm_rbf_raw_data_gamma_1_0e-2_eps_1_0_C_3_2e-2\n",
      "\tminDCF: 0.3531\n",
      "\tDCF: 0.0995\n",
      "\tDCF_norm: 0.9950\n",
      "Model: svm_rbf_raw_data_gamma_1_0e-2_eps_1_0_C_1_0e-1\n",
      "\tminDCF: 0.3499\n",
      "\tDCF: 0.0928\n",
      "\tDCF_norm: 0.9276\n",
      "Model: svm_rbf_raw_data_gamma_1_0e-2_eps_1_0_C_3_2e-1\n",
      "\tminDCF: 0.3399\n",
      "\tDCF: 0.0775\n",
      "\tDCF_norm: 0.7749\n",
      "Model: svm_rbf_raw_data_gamma_1_0e-2_eps_1_0_C_1_0e+00\n",
      "\tminDCF: 0.3093\n",
      "\tDCF: 0.0631\n",
      "\tDCF_norm: 0.6311\n",
      "Model: svm_rbf_raw_data_gamma_1_0e-2_eps_1_0_C_3_2e+00\n",
      "\tminDCF: 0.2906\n",
      "\tDCF: 0.0552\n",
      "\tDCF_norm: 0.5517\n",
      "Model: svm_rbf_raw_data_gamma_1_0e-2_eps_1_0_C_1_0e+01\n",
      "\tminDCF: 0.2500\n",
      "\tDCF: 0.0501\n",
      "\tDCF_norm: 0.5011\n",
      "Model: svm_rbf_raw_data_gamma_1_0e-2_eps_1_0_C_3_2e+01\n",
      "\tminDCF: 0.2402\n",
      "\tDCF: 0.0459\n",
      "\tDCF_norm: 0.4595\n",
      "Model: svm_rbf_raw_data_gamma_1_0e-2_eps_1_0_C_1_0e+02\n",
      "\tminDCF: 0.2435\n",
      "\tDCF: 0.0398\n",
      "\tDCF_norm: 0.3980\n",
      "Model: svm_rbf_raw_data_gamma_1_0e-1_eps_1_0_C_1_0e-3\n",
      "\tminDCF: 0.3288\n",
      "\tDCF: 0.1000\n",
      "\tDCF_norm: 1.0000\n",
      "Model: svm_rbf_raw_data_gamma_1_0e-1_eps_1_0_C_3_2e-3\n",
      "\tminDCF: 0.3268\n",
      "\tDCF: 0.1000\n",
      "\tDCF_norm: 1.0000\n",
      "Model: svm_rbf_raw_data_gamma_1_0e-1_eps_1_0_C_1_0e-2\n",
      "\tminDCF: 0.3036\n",
      "\tDCF: 0.1000\n",
      "\tDCF_norm: 1.0000\n",
      "Model: svm_rbf_raw_data_gamma_1_0e-1_eps_1_0_C_3_2e-2\n",
      "\tminDCF: 0.2843\n",
      "\tDCF: 0.1000\n",
      "\tDCF_norm: 1.0000\n",
      "Model: svm_rbf_raw_data_gamma_1_0e-1_eps_1_0_C_1_0e-1\n",
      "\tminDCF: 0.2663\n",
      "\tDCF: 0.0904\n",
      "\tDCF_norm: 0.9038\n",
      "Model: svm_rbf_raw_data_gamma_1_0e-1_eps_1_0_C_3_2e-1\n",
      "\tminDCF: 0.2520\n",
      "\tDCF: 0.0706\n",
      "\tDCF_norm: 0.7055\n",
      "Model: svm_rbf_raw_data_gamma_1_0e-1_eps_1_0_C_1_0e+00\n",
      "\tminDCF: 0.2419\n",
      "\tDCF: 0.0603\n",
      "\tDCF_norm: 0.6033\n",
      "Model: svm_rbf_raw_data_gamma_1_0e-1_eps_1_0_C_3_2e+00\n",
      "\tminDCF: 0.2367\n",
      "\tDCF: 0.0559\n",
      "\tDCF_norm: 0.5587\n",
      "Model: svm_rbf_raw_data_gamma_1_0e-1_eps_1_0_C_1_0e+01\n",
      "\tminDCF: 0.2388\n",
      "\tDCF: 0.0497\n",
      "\tDCF_norm: 0.4970\n",
      "Model: svm_rbf_raw_data_gamma_1_0e-1_eps_1_0_C_3_2e+01\n",
      "\tminDCF: 0.2010\n",
      "\tDCF: 0.0447\n",
      "\tDCF_norm: 0.4474\n",
      "Model: svm_rbf_raw_data_gamma_1_0e-1_eps_1_0_C_1_0e+02\n",
      "\tminDCF: 0.1845\n",
      "\tDCF: 0.0358\n",
      "\tDCF_norm: 0.3581\n"
     ]
    }
   ],
   "source": [
    "for model, performance in models_performances.items():\n",
    "    print(f\"Model: {model}\")\n",
    "    for key, value in performance.items():\n",
    "        print(f\"\\t{key}: {value:.4f}\")"
   ]
  },
  {
   "cell_type": "code",
   "execution_count": 23,
   "metadata": {},
   "outputs": [
    {
     "name": "stdout",
     "output_type": "stream",
     "text": [
      "Best model: gmm_diagonal_8_components, MinDCF: 0.1463\n"
     ]
    }
   ],
   "source": [
    "# find the model with the lowest minDCF\n",
    "minDCF = np.inf\n",
    "best_model = None\n",
    "for model, performance in models_performances.items():\n",
    "    if performance['minDCF'] < minDCF:\n",
    "        minDCF = performance['minDCF']\n",
    "        best_model = model\n",
    "    # print(f\"{model}: MinDCF: {performance['minDCF']:.4f}, DCF: {performance['DCF']:.4f}, Normalized DCF: {performance['DCF_norm']:.4f}\")\n",
    "\n",
    "print(f\"Best model: {best_model}, MinDCF: {minDCF:.4f}\")"
   ]
  },
  {
   "cell_type": "code",
   "execution_count": 24,
   "metadata": {},
   "outputs": [
    {
     "name": "stdout",
     "output_type": "stream",
     "text": [
      "svm_rbf_raw_data_gamma_1_0e-1_eps_1_0_C_1_0e+02: MinDCF: 0.1845\n",
      "lr_quad_raw_data_pi_1_0e-1_lambda_3_2e-2: MinDCF: 0.2436\n",
      "gmm_diagonal_8_components: MinDCF: 0.1463\n"
     ]
    }
   ],
   "source": [
    "# find for each model the best configuration\n",
    "def find_best_configuration(models_performances):\n",
    "    best_models = {}\n",
    "    models_type = set([model.split('_')[0] for model in models_performances.keys()])\n",
    "\n",
    "    for model_type in models_type:\n",
    "        minDCF = np.inf\n",
    "        best_model = None\n",
    "        for model, performance in models_performances.items():\n",
    "            if model_type in model:\n",
    "                if performance['minDCF'] < minDCF:\n",
    "                    minDCF = performance['minDCF']\n",
    "                    best_model = model\n",
    "        best_models[best_model] = minDCF\n",
    "\n",
    "    return best_models\n",
    "\n",
    "best_models = find_best_configuration(models_performances)\n",
    "    \n",
    "for model, minDCF in best_models.items():\n",
    "    print(f\"{model}: MinDCF: {minDCF:.4f}\")"
   ]
  },
  {
   "cell_type": "markdown",
   "metadata": {},
   "source": [
    "### Try different application for the three best models"
   ]
  },
  {
   "cell_type": "code",
   "execution_count": 25,
   "metadata": {},
   "outputs": [],
   "source": [
    "def compute_statistics(llr, y_true, prior, unique_labels=None, graph=True):\n",
    "    cost_matrix, prior_class_prob, threshold = binary_cost_matrix(prior)\n",
    "    \n",
    "    min_DCF, best_threshold = compute_minDCF(llr, y_true, prior, unique_labels)\n",
    "    y_pred = (llr > threshold) * 1\n",
    "    y_pred_best = (llr > best_threshold) * 1\n",
    "    cm = confusion_matrix(y_true, y_pred, unique_labels)\n",
    "    cm_best = confusion_matrix(y_true, y_pred_best, unique_labels)\n",
    "    acc = accuracy(cm_best)\n",
    "    DCF, _, _ = compute_DCF(cm, cost_matrix, prior_class_prob)\n",
    "    DCF_norm, _, _ = compute_DCF_normalized(cm, cost_matrix, prior_class_prob)\n",
    "    \n",
    "    print(f\"MinDCF: {min_DCF:.4f}, DCF: {DCF:.4f}, Normalized DCF: {DCF_norm:.4f}, Accuracy: {acc*100:.2f}%\\n\")\n",
    "    if graph:\n",
    "        plot_bayes_error(llr, y_true, unique_labels)\n",
    "        \n",
    "    return min_DCF, DCF, DCF_norm"
   ]
  },
  {
   "cell_type": "markdown",
   "metadata": {},
   "source": [
    "#### Best model for GMM: GMM - diagonal 8 components"
   ]
  },
  {
   "cell_type": "code",
   "execution_count": 26,
   "metadata": {},
   "outputs": [
    {
     "name": "stdout",
     "output_type": "stream",
     "text": [
      "GMM 0 loaded successfully.\n",
      "GMM 1 loaded successfully.\n",
      "MinDCF: 0.1463, DCF: 0.0181, Normalized DCF: 0.1809, Accuracy: 93.85%\n",
      "\n"
     ]
    }
   ],
   "source": [
    "covariance_type = 'diagonal'\n",
    "n_best_components = 8\n",
    "prior = 0.1\n",
    "\n",
    "model = GMM(n_components=n_best_components, covariance_type=covariance_type, psiEig=psiEig)\n",
    "folder = f\"gmm_{covariance_type}_{n_best_components}_components\"\n",
    "model.fit(X_train, y_train, n_features=2, folder=folder, test_only=test_only)\n",
    "score = model.score_binary(X_test)\n",
    "min_DCF, _, DCF_norm = compute_statistics(score, y_test, prior=prior, unique_labels=[0, 1], graph=False)"
   ]
  },
  {
   "cell_type": "code",
   "execution_count": 27,
   "metadata": {},
   "outputs": [
    {
     "name": "stdout",
     "output_type": "stream",
     "text": [
      "GMM 0 loaded successfully.\n",
      "GMM 1 loaded successfully.\n",
      "MinDCF: 0.0619, DCF: 0.0346, Normalized DCF: 0.0691, Accuracy: 96.90%\n",
      "\n"
     ]
    }
   ],
   "source": [
    "prior = 0.5\n",
    "\n",
    "model = GMM(n_components=n_best_components, covariance_type=covariance_type, psiEig=psiEig)\n",
    "folder = f\"gmm_{covariance_type}_{n_best_components}_components\"\n",
    "model.fit(X_train, y_train, n_features=2, folder=folder, test_only=test_only)\n",
    "score = model.score_binary(X_test)\n",
    "min_DCF, _, DCF_norm = compute_statistics(score, y_test, prior=prior, unique_labels=[0, 1], graph=False)"
   ]
  },
  {
   "cell_type": "code",
   "execution_count": 28,
   "metadata": {},
   "outputs": [
    {
     "name": "stdout",
     "output_type": "stream",
     "text": [
      "GMM 0 loaded successfully.\n",
      "GMM 1 loaded successfully.\n",
      "MinDCF: 0.1577, DCF: 0.0167, Normalized DCF: 0.1668, Accuracy: 93.75%\n",
      "\n"
     ]
    },
    {
     "data": {
      "image/png": "[encoded data removed]",
      "text/plain": [
       "<Figure size 640x480 with 1 Axes>"
      ]
     },
     "metadata": {},
     "output_type": "display_data"
    }
   ],
   "source": [
    "prior = 0.9\n",
    "\n",
    "model = GMM(n_components=n_best_components, covariance_type=covariance_type, psiEig=psiEig)\n",
    "folder = f\"gmm_{covariance_type}_{n_best_components}_components\"\n",
    "model.fit(X_train, y_train, n_features=2, folder=folder, test_only=test_only)\n",
    "score = model.score_binary(X_test)\n",
    "min_DCF, _, DCF_norm = compute_statistics(score, y_test, prior=prior, unique_labels=[0, 1], graph=True)"
   ]
  },
  {
   "cell_type": "markdown",
   "metadata": {},
   "source": [
    "#### Best model for SVM: SVM - RBF with gamma = 0.1, epsilon = 1.0, C = 100.0"
   ]
  },
  {
   "cell_type": "code",
   "execution_count": 29,
   "metadata": {},
   "outputs": [],
   "source": [
    "eps = 1.0\n",
    "gamma = 1e-1\n",
    "C = 100.0\n",
    "prior = 0.1"
   ]
  },
  {
   "cell_type": "code",
   "execution_count": 30,
   "metadata": {},
   "outputs": [
    {
     "name": "stdout",
     "output_type": "stream",
     "text": [
      "Model loaded successfully.\n",
      "MinDCF: 0.1845, DCF: 0.0358, Normalized DCF: 0.3581, Accuracy: 93.55%\n",
      "\n"
     ]
    }
   ],
   "source": [
    "prior = 0.1\n",
    "\n",
    "model = SVMClassifierRBFKernel(C=C, gamma=gamma, eps=eps)\n",
    "folder = f\"svm_rbf_raw_data_gamma_{gamma:.1e}_eps_{eps}_C_{C:.1e}\".replace('.', '_').replace('e-0', 'e-')\n",
    "model.fit(X_train, y_train, folder, test_only)\n",
    "llr = model.score(X_test)\n",
    "min_DCF, DCF, DCF_norm = compute_statistics(llr, y_test, prior=prior, unique_labels=[0, 1], graph=False)"
   ]
  },
  {
   "cell_type": "code",
   "execution_count": 31,
   "metadata": {},
   "outputs": [
    {
     "name": "stdout",
     "output_type": "stream",
     "text": [
      "Model loaded successfully.\n",
      "MinDCF: 0.0861, DCF: 0.0450, Normalized DCF: 0.0900, Accuracy: 95.70%\n",
      "\n"
     ]
    }
   ],
   "source": [
    "prior = 0.5\n",
    "\n",
    "model = SVMClassifierRBFKernel(C=C, gamma=gamma, eps=eps)\n",
    "folder = f\"svm_rbf_raw_data_gamma_{gamma:.1e}_eps_{eps}_C_{C:.1e}\".replace('.', '_').replace('e-0', 'e-')\n",
    "model.fit(X_train, y_train, folder, test_only)\n",
    "llr = model.score(X_test)\n",
    "min_DCF, DCF, DCF_norm = compute_statistics(llr, y_test, prior=prior, unique_labels=[0, 1], graph=False)"
   ]
  },
  {
   "cell_type": "code",
   "execution_count": 32,
   "metadata": {},
   "outputs": [
    {
     "name": "stdout",
     "output_type": "stream",
     "text": [
      "Model loaded successfully.\n",
      "MinDCF: 0.2398, DCF: 0.0437, Normalized DCF: 0.4369, Accuracy: 91.25%\n",
      "\n"
     ]
    },
    {
     "data": {
      "image/png": "[encoded data removed]",
      "text/plain": [
       "<Figure size 640x480 with 1 Axes>"
      ]
     },
     "metadata": {},
     "output_type": "display_data"
    }
   ],
   "source": [
    "prior = 0.9\n",
    "\n",
    "model = SVMClassifierRBFKernel(C=C, gamma=gamma, eps=eps)\n",
    "folder = f\"svm_rbf_raw_data_gamma_{gamma:.1e}_eps_{eps}_C_{C:.1e}\".replace('.', '_').replace('e-0', 'e-')\n",
    "model.fit(X_train, y_train, folder, test_only)\n",
    "llr = model.score(X_test)\n",
    "min_DCF, DCF, DCF_norm = compute_statistics(llr, y_test, prior=prior, unique_labels=[0, 1], graph=True)"
   ]
  },
  {
   "cell_type": "markdown",
   "metadata": {},
   "source": [
    "#### Best model for Logistic Regression: Quadratic Expansion with lambda = 0.032, pi = 0.1"
   ]
  },
  {
   "cell_type": "code",
   "execution_count": 33,
   "metadata": {},
   "outputs": [
    {
     "name": "stdout",
     "output_type": "stream",
     "text": [
      "Weights loaded successfully.\n",
      "MinDCF: 0.2436, DCF: 0.0497, Normalized DCF: 0.4972, Accuracy: 89.35%\n",
      "\n"
     ]
    }
   ],
   "source": [
    "l = 0.032\n",
    "pi = 0.1\n",
    "\n",
    "model = QuadraticExpansion(lambda_=l)\n",
    "X_train_quad = model.expand(X_train)\n",
    "X_test_quad = model.expand(X_test)\n",
    "folder = f\"lr_quad_raw_data_pi_{pi:.1e}_lambda_{l:.1e}\".replace('.', '_').replace('e-0', 'e-')\n",
    "model.fit(X_train_quad, y_train, folder=folder, test_only=test_only)\n",
    "llr = model.score(X_test_quad) - np.log(pEmp / (1 - pEmp))\n",
    "min_DCF, DCF, DCF_norm = compute_statistics(llr, y_test, pi, unique_labels=[0, 1], graph=False)"
   ]
  },
  {
   "cell_type": "code",
   "execution_count": 34,
   "metadata": {},
   "outputs": [
    {
     "name": "stdout",
     "output_type": "stream",
     "text": [
      "Weights loaded successfully.\n",
      "MinDCF: 0.1130, DCF: 0.0594, Normalized DCF: 0.1188, Accuracy: 94.35%\n",
      "\n"
     ]
    }
   ],
   "source": [
    "pi = 0.5\n",
    "\n",
    "model = QuadraticExpansion(lambda_=l)\n",
    "X_train_quad = model.expand(X_train)\n",
    "X_test_quad = model.expand(X_test)\n",
    "folder = f\"lr_quad_raw_data_pi_{pi:.1e}_lambda_{l:.1e}\".replace('.', '_').replace('e-0', 'e-')\n",
    "model.fit(X_train_quad, y_train, folder=folder, test_only=test_only)\n",
    "llr = model.score(X_test_quad) - np.log(pEmp / (1 - pEmp))\n",
    "min_DCF, DCF, DCF_norm = compute_statistics(llr, y_test, pi, unique_labels=[0, 1], graph=False)"
   ]
  },
  {
   "cell_type": "code",
   "execution_count": 35,
   "metadata": {},
   "outputs": [
    {
     "name": "stdout",
     "output_type": "stream",
     "text": [
      "Weights loaded successfully.\n",
      "MinDCF: 0.3119, DCF: 0.0499, Normalized DCF: 0.4986, Accuracy: 88.85%\n",
      "\n"
     ]
    },
    {
     "data": {
      "image/png": "[encoded data removed]",
      "text/plain": [
       "<Figure size 640x480 with 1 Axes>"
      ]
     },
     "metadata": {},
     "output_type": "display_data"
    }
   ],
   "source": [
    "pi = 0.9\n",
    "\n",
    "model = QuadraticExpansion(lambda_=l)\n",
    "X_train_quad = model.expand(X_train)\n",
    "X_test_quad = model.expand(X_test)\n",
    "folder = f\"lr_quad_raw_data_pi_{pi:.1e}_lambda_{l:.1e}\".replace('.', '_').replace('e-0', 'e-')\n",
    "model.fit(X_train_quad, y_train, folder=folder, test_only=test_only)\n",
    "llr = model.score(X_test_quad) - np.log(pEmp / (1 - pEmp))\n",
    "min_DCF, DCF, DCF_norm = compute_statistics(llr, y_test, pi, unique_labels=[0, 1], graph=True)"
   ]
  }
 ],
 "metadata": {
  "kernelspec": {
   "display_name": "Python 3",
   "language": "python",
   "name": "python3"
  },
  "language_info": {
   "codemirror_mode": {
    "name": "ipython",
    "version": 3
   },
   "file_extension": ".py",
   "mimetype": "text/x-python",
   "name": "python",
   "nbconvert_exporter": "python",
   "pygments_lexer": "ipython3",
   "version": "3.11.2"
  }
 },
 "nbformat": 4,
 "nbformat_minor": 2
}
