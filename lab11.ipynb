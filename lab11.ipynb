{
 "cells": [
  {
   "cell_type": "code",
   "execution_count": 9,
   "metadata": {},
   "outputs": [],
   "source": [
    "import numpy as np\n",
    "import preprocessing as pp\n",
    "\n",
    "from graph import *\n",
    "from bayesian_decision_evaluation import *\n",
    "# import importlib\n",
    "from models.gmm_clf import GMM\n",
    "from models.logistic_regression_classifier import LogisticRegression, LogisticRegressionWeighted, QuadraticExpansion\n",
    "from models.svm_classifier import SVMClassifier\n",
    "from models.svm_kernel_classifier import SVMClassifierPolyKernel, SVMClassifierRBFKernel\n",
    "from models.multivariate_gaussian_classifier import MultivariateGaussianClassifier, NaiveBayesClassifier, TiedCovarianceClassifier"
   ]
  },
  {
   "cell_type": "code",
   "execution_count": 10,
   "metadata": {},
   "outputs": [],
   "source": [
    "X, y = utils.load_data()\n",
    "X_eval, y_eval = utils.load_validation_data()\n",
    "classes = {\n",
    "    'Fake': 'blue',\n",
    "    'Real': 'orange'\n",
    "}\n",
    "\n",
    "X_train, y_train, X_test, y_test = utils.split_data(X, y)"
   ]
  },
  {
   "cell_type": "code",
   "execution_count": 11,
   "metadata": {},
   "outputs": [],
   "source": [
    "def compute_statistics(llr, y_true, prior, unique_labels=None):\n",
    "    cost_matrix, prior_class_prob, threshold = binary_cost_matrix(prior)\n",
    "    \n",
    "    min_DCF, best_threshold = compute_minDCF(llr, y_true, prior, unique_labels)\n",
    "    y_pred = (llr > threshold) * 1\n",
    "    y_pred_best = (llr > best_threshold) * 1\n",
    "    cm = confusion_matrix(y_true, y_pred, unique_labels)\n",
    "    cm_best = confusion_matrix(y_true, y_pred_best, unique_labels)\n",
    "    acc = accuracy(cm_best)\n",
    "    DCF, _, _ = compute_DCF(cm, cost_matrix, prior_class_prob)\n",
    "    DCF_norm, _, _ = compute_DCF_normalized(cm, cost_matrix, prior_class_prob)\n",
    "    \n",
    "    print(f\"MinDCF: {min_DCF:.4f}, DCF: {DCF:.4f}, Normalized DCF: {DCF_norm:.4f}, Accuracy: {acc*100:.2f}%\\n\")\n",
    "    \n",
    "    return min_DCF, DCF, DCF_norm"
   ]
  },
  {
   "cell_type": "code",
   "execution_count": 12,
   "metadata": {},
   "outputs": [],
   "source": [
    "test_only = True"
   ]
  },
  {
   "cell_type": "markdown",
   "metadata": {},
   "source": [
    "#### Comparison with Calibration"
   ]
  },
  {
   "cell_type": "markdown",
   "metadata": {},
   "source": [
    "#### Best model for GMM: GMM - diagonal 8 components"
   ]
  },
  {
   "cell_type": "code",
   "execution_count": 13,
   "metadata": {},
   "outputs": [
    {
     "name": "stdout",
     "output_type": "stream",
     "text": [
      "GMM 0 loaded successfully.\n",
      "GMM 1 loaded successfully.\n"
     ]
    }
   ],
   "source": [
    "covariance_type = 'diagonal'\n",
    "n_best_components = 8\n",
    "prior = 0.1\n",
    "psiEig = 0.01\n",
    "\n",
    "model = GMM(n_components=n_best_components, covariance_type=covariance_type, psiEig=psiEig)\n",
    "folder = f\"gmm_{covariance_type}_{n_best_components}_components\"\n",
    "model.fit(X_train, y_train, n_features=2, folder=folder, test_only=test_only)\n",
    "gmm_score = model.score_binary(X_test)"
   ]
  },
  {
   "cell_type": "markdown",
   "metadata": {},
   "source": [
    "#### Best model for SVM: SVM - RBF with gamma = 0.1, epsilon = 1.0, C = 100.0"
   ]
  },
  {
   "cell_type": "code",
   "execution_count": 14,
   "metadata": {},
   "outputs": [
    {
     "name": "stdout",
     "output_type": "stream",
     "text": [
      "Model loaded successfully.\n"
     ]
    }
   ],
   "source": [
    "eps = 1.0\n",
    "gamma = 1e-1\n",
    "C = 100.0\n",
    "prior = 0.1\n",
    "\n",
    "model = SVMClassifierRBFKernel(C=C, gamma=gamma, eps=eps)\n",
    "folder = f\"svm_rbf_raw_data_gamma_{gamma:.1e}_eps_{eps}_C_{C:.1e}\".replace('.', '_').replace('e-0', 'e-')\n",
    "model.fit(X_train, y_train, folder, test_only)\n",
    "svm_score = model.score(X_test)"
   ]
  },
  {
   "cell_type": "markdown",
   "metadata": {},
   "source": [
    "#### Best model for Logistic Regression: Quadratic Expansion with lambda = 0.032, pi = 0.1"
   ]
  },
  {
   "cell_type": "code",
   "execution_count": 15,
   "metadata": {},
   "outputs": [
    {
     "name": "stdout",
     "output_type": "stream",
     "text": [
      "Weights loaded successfully.\n"
     ]
    }
   ],
   "source": [
    "l = 0.032\n",
    "prior = 0.1\n",
    "n_T = np.sum(y_train == 1)\n",
    "n_F = np.sum(y_train == 0)\n",
    "pEmp = n_T / (n_T + n_F)\n",
    "\n",
    "model = QuadraticExpansion(lambda_=l)\n",
    "X_train_quad = model.expand(X_train)\n",
    "X_test_quad = model.expand(X_test)\n",
    "folder = f\"lr_quad_raw_data_pi_{prior:.1e}_lambda_{l:.1e}\".replace('.', '_').replace('e-0', 'e-')\n",
    "model.fit(X_train_quad, y_train, folder=folder, test_only=test_only)\n",
    "lr_score = model.score(X_test_quad) - np.log(pEmp / (1 - pEmp))"
   ]
  },
  {
   "cell_type": "markdown",
   "metadata": {},
   "source": [
    "#### K-Fold Cross Validation"
   ]
  },
  {
   "cell_type": "markdown",
   "metadata": {},
   "source": []
  }
 ],
 "metadata": {
  "kernelspec": {
   "display_name": "Python 3",
   "language": "python",
   "name": "python3"
  },
  "language_info": {
   "codemirror_mode": {
    "name": "ipython",
    "version": 3
   },
   "file_extension": ".py",
   "mimetype": "text/x-python",
   "name": "python",
   "nbconvert_exporter": "python",
   "pygments_lexer": "ipython3",
   "version": "3.11.2"
  }
 },
 "nbformat": 4,
 "nbformat_minor": 2
}
